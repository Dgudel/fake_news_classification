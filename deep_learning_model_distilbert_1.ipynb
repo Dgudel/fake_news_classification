{
 "cells": [
  {
   "cell_type": "markdown",
   "id": "9c8cf56d-d05f-4cba-a976-c8f98aa4d985",
   "metadata": {},
   "source": [
    "# A deep learning model for fake news classification based on the pre-trained transformer model Distilbert (model No.1)"
   ]
  },
  {
   "cell_type": "markdown",
   "id": "c9b3c8bc-756c-49d4-9931-32df75f298b3",
   "metadata": {},
   "source": [
    "In this file the creating and assessing a deep learning model based on the pre-trained transformer model Distilbert is presented. These parameters were used for this model:\n",
    "- learning rate 0.001 (training) 0.0001 (fine-tuning);\n",
    "- maximum sequence length was set to 300;\n",
    "- training-validation-test split 0.4x0.4x0.2."
   ]
  },
  {
   "cell_type": "markdown",
   "id": "67ea7c26",
   "metadata": {},
   "source": [
    "### Importing libraries"
   ]
  },
  {
   "cell_type": "code",
   "execution_count": 10,
   "id": "adf93a8c",
   "metadata": {},
   "outputs": [
    {
     "data": {
      "application/javascript": [
       "\n",
       "            setTimeout(function() {\n",
       "                var nbb_cell_id = 10;\n",
       "                var nbb_unformatted_code = \"import os\\nimport pandas as pd\\nimport numpy as np\\nimport matplotlib.pyplot as plt\\nimport time\\n\\nimport seaborn as sns\\n\\nimport torch\\nimport torch.nn as nn\\nimport torch.nn.functional as F\\nfrom torch.utils.data import Dataset, DataLoader, SubsetRandomSampler\\nfrom torch import optim\\nfrom torchsummary import summary\\nfrom torchmetrics.classification import Accuracy\\nfrom torchvision.transforms import ToTensor, Lambda\\nimport pytorch_lightning as pl\\nfrom pytorch_lightning.callbacks import ModelCheckpoint\\n\\nimport transformers\\nfrom transformers import (\\n    AutoTokenizer,\\n    AutoModelForSequenceClassification,\\n    RobertaConfig, \\n    RobertaForSequenceClassification,\\n    DistilBertTokenizer,\\n    DistilBertForMaskedLM,\\n    DistilBertModel,\\n    DistilBertForSequenceClassification,\\n    DistilBertConfig,\\n    pipeline\\n)\\n\\nimport pickle\\nimport nltk\\nfrom nltk.corpus import stopwords\\nfrom tokenizers import trainers, models, Tokenizer, pre_tokenizers\\n\\nfrom sklearn.model_selection import train_test_split, cross_val_score, cross_validate\\nfrom sklearn.metrics import accuracy_score, f1_score, precision_score, \\\\\\nrecall_score, confusion_matrix, make_scorer, classification_report,\\\\\\n roc_auc_score, average_precision_score, log_loss\\n\\nfrom sklearn.feature_extraction.text import CountVectorizer, TfidfVectorizer\\nfrom sklearn.utils.class_weight import compute_sample_weight, compute_class_weight\\n\\n\\nimport joblib\\n\\nimport gensim\\nfrom nltk.stem import WordNetLemmatizer, PorterStemmer\\nfrom nltk.tokenize import word_tokenize\\nfrom textblob import TextBlob\\nfrom wordcloud import WordCloud, STOPWORDS\\n\\nfrom collections import defaultdict\\nfrom collections import Counter\\nfrom typing import Any, List, Tuple, Union, Dict\\n\\nfrom fake_news_dataset_distilbert import FakeNewsDatasetDistilbert1\\nimport warnings\\nwarnings.filterwarnings(\\\"ignore\\\")\";\n",
       "                var nbb_formatted_code = \"import os\\nimport pandas as pd\\nimport numpy as np\\nimport matplotlib.pyplot as plt\\nimport time\\n\\nimport seaborn as sns\\n\\nimport torch\\nimport torch.nn as nn\\nimport torch.nn.functional as F\\nfrom torch.utils.data import Dataset, DataLoader, SubsetRandomSampler\\nfrom torch import optim\\nfrom torchsummary import summary\\nfrom torchmetrics.classification import Accuracy\\nfrom torchvision.transforms import ToTensor, Lambda\\nimport pytorch_lightning as pl\\nfrom pytorch_lightning.callbacks import ModelCheckpoint\\n\\nimport transformers\\nfrom transformers import (\\n    AutoTokenizer,\\n    AutoModelForSequenceClassification,\\n    RobertaConfig,\\n    RobertaForSequenceClassification,\\n    DistilBertTokenizer,\\n    DistilBertForMaskedLM,\\n    DistilBertModel,\\n    DistilBertForSequenceClassification,\\n    DistilBertConfig,\\n    pipeline,\\n)\\n\\nimport pickle\\nimport nltk\\nfrom nltk.corpus import stopwords\\nfrom tokenizers import trainers, models, Tokenizer, pre_tokenizers\\n\\nfrom sklearn.model_selection import train_test_split, cross_val_score, cross_validate\\nfrom sklearn.metrics import (\\n    accuracy_score,\\n    f1_score,\\n    precision_score,\\n    recall_score,\\n    confusion_matrix,\\n    make_scorer,\\n    classification_report,\\n    roc_auc_score,\\n    average_precision_score,\\n    log_loss,\\n)\\n\\nfrom sklearn.feature_extraction.text import CountVectorizer, TfidfVectorizer\\nfrom sklearn.utils.class_weight import compute_sample_weight, compute_class_weight\\n\\n\\nimport joblib\\n\\nimport gensim\\nfrom nltk.stem import WordNetLemmatizer, PorterStemmer\\nfrom nltk.tokenize import word_tokenize\\nfrom textblob import TextBlob\\nfrom wordcloud import WordCloud, STOPWORDS\\n\\nfrom collections import defaultdict\\nfrom collections import Counter\\nfrom typing import Any, List, Tuple, Union, Dict\\n\\nfrom fake_news_dataset_distilbert import FakeNewsDatasetDistilbert1\\nimport warnings\\n\\nwarnings.filterwarnings(\\\"ignore\\\")\";\n",
       "                var nbb_cells = Jupyter.notebook.get_cells();\n",
       "                for (var i = 0; i < nbb_cells.length; ++i) {\n",
       "                    if (nbb_cells[i].input_prompt_number == nbb_cell_id) {\n",
       "                        if (nbb_cells[i].get_text() == nbb_unformatted_code) {\n",
       "                             nbb_cells[i].set_text(nbb_formatted_code);\n",
       "                        }\n",
       "                        break;\n",
       "                    }\n",
       "                }\n",
       "            }, 500);\n",
       "            "
      ],
      "text/plain": [
       "<IPython.core.display.Javascript object>"
      ]
     },
     "metadata": {},
     "output_type": "display_data"
    }
   ],
   "source": [
    "import os\n",
    "import pandas as pd\n",
    "import numpy as np\n",
    "import matplotlib.pyplot as plt\n",
    "import time\n",
    "\n",
    "import seaborn as sns\n",
    "\n",
    "import torch\n",
    "import torch.nn as nn\n",
    "import torch.nn.functional as F\n",
    "from torch.utils.data import Dataset, DataLoader, SubsetRandomSampler\n",
    "from torch import optim\n",
    "from torchsummary import summary\n",
    "from torchmetrics.classification import Accuracy\n",
    "from torchvision.transforms import ToTensor, Lambda\n",
    "import pytorch_lightning as pl\n",
    "from pytorch_lightning.callbacks import ModelCheckpoint\n",
    "\n",
    "import transformers\n",
    "from transformers import (\n",
    "    AutoTokenizer,\n",
    "    AutoModelForSequenceClassification,\n",
    "    RobertaConfig, \n",
    "    RobertaForSequenceClassification,\n",
    "    DistilBertTokenizer,\n",
    "    DistilBertForMaskedLM,\n",
    "    DistilBertModel,\n",
    "    DistilBertForSequenceClassification,\n",
    "    DistilBertConfig,\n",
    "    pipeline\n",
    ")\n",
    "\n",
    "import pickle\n",
    "import nltk\n",
    "from nltk.corpus import stopwords\n",
    "from tokenizers import trainers, models, Tokenizer, pre_tokenizers\n",
    "\n",
    "from sklearn.model_selection import train_test_split, cross_val_score, cross_validate\n",
    "from sklearn.metrics import accuracy_score, f1_score, precision_score, \\\n",
    "recall_score, confusion_matrix, make_scorer, classification_report,\\\n",
    " roc_auc_score, average_precision_score, log_loss\n",
    "\n",
    "from sklearn.feature_extraction.text import CountVectorizer, TfidfVectorizer\n",
    "from sklearn.utils.class_weight import compute_sample_weight, compute_class_weight\n",
    "\n",
    "\n",
    "import joblib\n",
    "\n",
    "import gensim\n",
    "from nltk.stem import WordNetLemmatizer, PorterStemmer\n",
    "from nltk.tokenize import word_tokenize\n",
    "from textblob import TextBlob\n",
    "from wordcloud import WordCloud, STOPWORDS\n",
    "\n",
    "from collections import defaultdict\n",
    "from collections import Counter\n",
    "from typing import Any, List, Tuple, Union, Dict\n",
    "\n",
    "from fake_news_dataset_distilbert import FakeNewsDatasetDistilbert1\n",
    "import warnings\n",
    "warnings.filterwarnings(\"ignore\")\n"
   ]
  },
  {
   "cell_type": "code",
   "execution_count": 6,
   "id": "bd4a099d",
   "metadata": {},
   "outputs": [
    {
     "name": "stdout",
     "output_type": "stream",
     "text": [
      "The nb_black extension is already loaded. To reload it, use:\n",
      "  %reload_ext nb_black\n"
     ]
    },
    {
     "data": {
      "application/javascript": [
       "\n",
       "            setTimeout(function() {\n",
       "                var nbb_cell_id = 6;\n",
       "                var nbb_unformatted_code = \"%load_ext nb_black\";\n",
       "                var nbb_formatted_code = \"%load_ext nb_black\";\n",
       "                var nbb_cells = Jupyter.notebook.get_cells();\n",
       "                for (var i = 0; i < nbb_cells.length; ++i) {\n",
       "                    if (nbb_cells[i].input_prompt_number == nbb_cell_id) {\n",
       "                        if (nbb_cells[i].get_text() == nbb_unformatted_code) {\n",
       "                             nbb_cells[i].set_text(nbb_formatted_code);\n",
       "                        }\n",
       "                        break;\n",
       "                    }\n",
       "                }\n",
       "            }, 500);\n",
       "            "
      ],
      "text/plain": [
       "<IPython.core.display.Javascript object>"
      ]
     },
     "metadata": {},
     "output_type": "display_data"
    }
   ],
   "source": [
    "%load_ext nb_black"
   ]
  },
  {
   "cell_type": "markdown",
   "id": "647d5ef4",
   "metadata": {},
   "source": [
    "### Importing, tokenizing and splitting the dataset¶"
   ]
  },
  {
   "cell_type": "markdown",
   "id": "c9e758bf-21d0-4a72-a7fe-8c6e81fdf864",
   "metadata": {},
   "source": [
    "the concatenated dataset with columns for fake and true news articles' text and titles was uploaded as a dataframe."
   ]
  },
  {
   "cell_type": "code",
   "execution_count": 7,
   "id": "1c12d059",
   "metadata": {},
   "outputs": [
    {
     "data": {
      "application/javascript": [
       "\n",
       "            setTimeout(function() {\n",
       "                var nbb_cell_id = 7;\n",
       "                var nbb_unformatted_code = \"news = pd.read_csv(\\\"news.csv\\\")\";\n",
       "                var nbb_formatted_code = \"news = pd.read_csv(\\\"news.csv\\\")\";\n",
       "                var nbb_cells = Jupyter.notebook.get_cells();\n",
       "                for (var i = 0; i < nbb_cells.length; ++i) {\n",
       "                    if (nbb_cells[i].input_prompt_number == nbb_cell_id) {\n",
       "                        if (nbb_cells[i].get_text() == nbb_unformatted_code) {\n",
       "                             nbb_cells[i].set_text(nbb_formatted_code);\n",
       "                        }\n",
       "                        break;\n",
       "                    }\n",
       "                }\n",
       "            }, 500);\n",
       "            "
      ],
      "text/plain": [
       "<IPython.core.display.Javascript object>"
      ]
     },
     "metadata": {},
     "output_type": "display_data"
    }
   ],
   "source": [
    "news = pd.read_csv(\"news.csv\")"
   ]
  },
  {
   "cell_type": "markdown",
   "id": "cafccd19-5ac2-440e-aa36-cfe08b9cd000",
   "metadata": {},
   "source": [
    "Text and titles were combined into a single text column."
   ]
  },
  {
   "cell_type": "code",
   "execution_count": 8,
   "id": "9c2e0a8e",
   "metadata": {},
   "outputs": [
    {
     "data": {
      "application/javascript": [
       "\n",
       "            setTimeout(function() {\n",
       "                var nbb_cell_id = 8;\n",
       "                var nbb_unformatted_code = \"news[\\\"title_text\\\"] = news[\\\"title\\\"] + \\\" \\\" + news[\\\"text\\\"]\";\n",
       "                var nbb_formatted_code = \"news[\\\"title_text\\\"] = news[\\\"title\\\"] + \\\" \\\" + news[\\\"text\\\"]\";\n",
       "                var nbb_cells = Jupyter.notebook.get_cells();\n",
       "                for (var i = 0; i < nbb_cells.length; ++i) {\n",
       "                    if (nbb_cells[i].input_prompt_number == nbb_cell_id) {\n",
       "                        if (nbb_cells[i].get_text() == nbb_unformatted_code) {\n",
       "                             nbb_cells[i].set_text(nbb_formatted_code);\n",
       "                        }\n",
       "                        break;\n",
       "                    }\n",
       "                }\n",
       "            }, 500);\n",
       "            "
      ],
      "text/plain": [
       "<IPython.core.display.Javascript object>"
      ]
     },
     "metadata": {},
     "output_type": "display_data"
    }
   ],
   "source": [
    "news[\"title_text\"] = news[\"title\"] + \" \" + news[\"text\"]"
   ]
  },
  {
   "cell_type": "markdown",
   "id": "dcf6cab1-c3bb-472d-abf3-7763b120095e",
   "metadata": {},
   "source": [
    "Other columns were droped from the dataset."
   ]
  },
  {
   "cell_type": "code",
   "execution_count": 11,
   "id": "36ae2bdb",
   "metadata": {},
   "outputs": [
    {
     "data": {
      "application/javascript": [
       "\n",
       "            setTimeout(function() {\n",
       "                var nbb_cell_id = 11;\n",
       "                var nbb_unformatted_code = \"X = news.drop(\\n    [\\\"title\\\", \\\"text\\\", \\\"subject\\\", \\\"date\\\", \\\"Unnamed: 0\\\"],\\n    axis=1,\\n)\\n\\nX_train, X_test = train_test_split(X, test_size=0.2, random_state=42)\\nX_train, X_val = train_test_split(X_train, test_size=0.5, random_state=42)\";\n",
       "                var nbb_formatted_code = \"X = news.drop(\\n    [\\\"title\\\", \\\"text\\\", \\\"subject\\\", \\\"date\\\", \\\"Unnamed: 0\\\"],\\n    axis=1,\\n)\\n\\nX_train, X_test = train_test_split(X, test_size=0.2, random_state=42)\\nX_train, X_val = train_test_split(X_train, test_size=0.5, random_state=42)\";\n",
       "                var nbb_cells = Jupyter.notebook.get_cells();\n",
       "                for (var i = 0; i < nbb_cells.length; ++i) {\n",
       "                    if (nbb_cells[i].input_prompt_number == nbb_cell_id) {\n",
       "                        if (nbb_cells[i].get_text() == nbb_unformatted_code) {\n",
       "                             nbb_cells[i].set_text(nbb_formatted_code);\n",
       "                        }\n",
       "                        break;\n",
       "                    }\n",
       "                }\n",
       "            }, 500);\n",
       "            "
      ],
      "text/plain": [
       "<IPython.core.display.Javascript object>"
      ]
     },
     "metadata": {},
     "output_type": "display_data"
    }
   ],
   "source": [
    "X = news.drop(\n",
    "    [\"title\", \"text\", \"subject\", \"date\", \"Unnamed: 0\"],\n",
    "    axis=1,\n",
    ")\n",
    "\n",
    "X_train, X_test = train_test_split(X, test_size=0.2, random_state=42)\n",
    "X_train, X_val = train_test_split(X_train, test_size=0.5, random_state=42)"
   ]
  },
  {
   "cell_type": "markdown",
   "id": "ce1c86e8-31db-49e0-b61c-c41e2b9de09d",
   "metadata": {},
   "source": [
    "Train, validation and test datasets were created with the Pytorch Lightning class. The class encoded the data into tensors with the Roberta tokenizer."
   ]
  },
  {
   "cell_type": "code",
   "execution_count": 36,
   "id": "d961efb1",
   "metadata": {},
   "outputs": [
    {
     "data": {
      "application/javascript": [
       "\n",
       "            setTimeout(function() {\n",
       "                var nbb_cell_id = 36;\n",
       "                var nbb_unformatted_code = \"train_dataset = FakeNewsDatasetDistilbert1(X_train, labels_available=True)\\nval_dataset = FakeNewsDatasetDistilbert1(X_val, labels_available=True)\\ntest_dataset = FakeNewsDatasetDistilbert1(X_test, labels_available=True)\";\n",
       "                var nbb_formatted_code = \"train_dataset = FakeNewsDatasetDistilbert1(X_train, labels_available=True)\\nval_dataset = FakeNewsDatasetDistilbert1(X_val, labels_available=True)\\ntest_dataset = FakeNewsDatasetDistilbert1(X_test, labels_available=True)\";\n",
       "                var nbb_cells = Jupyter.notebook.get_cells();\n",
       "                for (var i = 0; i < nbb_cells.length; ++i) {\n",
       "                    if (nbb_cells[i].input_prompt_number == nbb_cell_id) {\n",
       "                        if (nbb_cells[i].get_text() == nbb_unformatted_code) {\n",
       "                             nbb_cells[i].set_text(nbb_formatted_code);\n",
       "                        }\n",
       "                        break;\n",
       "                    }\n",
       "                }\n",
       "            }, 500);\n",
       "            "
      ],
      "text/plain": [
       "<IPython.core.display.Javascript object>"
      ]
     },
     "metadata": {},
     "output_type": "display_data"
    }
   ],
   "source": [
    "train_dataset = FakeNewsDatasetDistilbert1(X_train, labels_available=True)\n",
    "val_dataset = FakeNewsDatasetDistilbert1(X_val, labels_available=True)\n",
    "test_dataset = FakeNewsDatasetDistilbert1(X_test, labels_available=True)"
   ]
  },
  {
   "cell_type": "markdown",
   "id": "5d7611a4-9978-4c61-883a-d8191fe8d3fa",
   "metadata": {},
   "source": [
    "The data was encoded correctly (see below)."
   ]
  },
  {
   "cell_type": "code",
   "execution_count": 37,
   "id": "e2b38f31",
   "metadata": {},
   "outputs": [
    {
     "data": {
      "text/plain": [
       "17959"
      ]
     },
     "execution_count": 37,
     "metadata": {},
     "output_type": "execute_result"
    },
    {
     "data": {
      "application/javascript": [
       "\n",
       "            setTimeout(function() {\n",
       "                var nbb_cell_id = 37;\n",
       "                var nbb_unformatted_code = \"len(\\n    train_dataset,\\n)\";\n",
       "                var nbb_formatted_code = \"len(\\n    train_dataset,\\n)\";\n",
       "                var nbb_cells = Jupyter.notebook.get_cells();\n",
       "                for (var i = 0; i < nbb_cells.length; ++i) {\n",
       "                    if (nbb_cells[i].input_prompt_number == nbb_cell_id) {\n",
       "                        if (nbb_cells[i].get_text() == nbb_unformatted_code) {\n",
       "                             nbb_cells[i].set_text(nbb_formatted_code);\n",
       "                        }\n",
       "                        break;\n",
       "                    }\n",
       "                }\n",
       "            }, 500);\n",
       "            "
      ],
      "text/plain": [
       "<IPython.core.display.Javascript object>"
      ]
     },
     "metadata": {},
     "output_type": "display_data"
    }
   ],
   "source": [
    "len(\n",
    "    train_dataset,\n",
    ")"
   ]
  },
  {
   "cell_type": "code",
   "execution_count": 39,
   "id": "4ddc5251",
   "metadata": {},
   "outputs": [
    {
     "data": {
      "text/plain": [
       "{'input_ids': tensor([  101,  1456,  3577,  2196,  1185,  2951,  1122,  1110,  3021,  1164,\n",
       "          2520,   131,   158,   119,   156,   119,  2078, 22751,  1708,  3048,\n",
       "         15740, 18082,  2249,   113, 11336, 27603,   114,   118,  1109,  1426,\n",
       "          1951,  1163,  9031,  1115,  1103,  1244,  1311,  1156,  1129,  1501,\n",
       "          1106,  2520,  1106,  1456,  3577,  1165,  1103,  1159,  1110,  1268,\n",
       "          1133,  1115,  1122,  1180,  1136,  3333,  1208,  1272,   153, 15136,\n",
       "          4873,  4993,  1144,  2602,  1185,  2951,  1104,   170, 21623,  1106,\n",
       "          9700,  1157,  8233,  1105,  4272,  5193,   119,  2711,   158,   119,\n",
       "           156,   119,  2909,  1104,  1426, 10896, 22430, 18608,   188,  2906,\n",
       "          1113,  9667,  1106,  1838,  7430,  1114,  1456,  3577,  1443,  3073,\n",
       "           118,  2975,   117,  1426,  1951,  2910,  1116,  9462,  9644, 11896,\n",
       "         10232,  1204,  1163,  1175,  1156,  1148,  1138,  1106,  1129,   170,\n",
       "          1669,  1104,  5017,  1107,  1134,   153, 15136,  4873,  4993, 28117,\n",
       "         20080, 22367,  5193,  1196,  1251,  7624,  1180,  3295,   119, 22430,\n",
       "         18608,   117,  1107,   170,  4055,  1106,   170,  1994,  1341,  4890,\n",
       "          1113,  9667,   117,  1225,  1136, 12252,  4586,  1216,   170, 16020,\n",
       "          1112,   170,  8875,  1115,  1456,  3577,  1538,  2283,  3075,  1104,\n",
       "          7430,   119, 11896, 10232,  1204,   117,  3522,  1120,  1103,  1426,\n",
       "          1951,   188,  3828,  4094,  1158,   117,  6744,  1115, 22430, 18608,\n",
       "          1108,  1136,  7046,  1207,  2818,  1107,  1117,  4055,   117,  1256,\n",
       "          1463,  1119,  1691,  1106,  1171,  1283,  1121,   170,  2501,   158,\n",
       "           119,   156,   119,  4555,  1115,   153, 15136,  4873,  4993,  1538,\n",
       "          1148,  4392,  1115,  1251,  7624,  1156,  1138,  1106,  1129,  1164,\n",
       "          2368,  1146,  1157,  4272,   170, 22972,  1348,   119,   102,     0,\n",
       "             0,     0,     0,     0,     0,     0,     0,     0,     0,     0,\n",
       "             0,     0,     0,     0,     0,     0,     0,     0,     0,     0,\n",
       "             0,     0,     0,     0,     0,     0,     0,     0,     0,     0,\n",
       "             0,     0,     0,     0,     0,     0,     0,     0,     0,     0,\n",
       "             0,     0,     0,     0,     0,     0,     0,     0,     0,     0,\n",
       "             0,     0,     0,     0,     0,     0,     0,     0,     0,     0]),\n",
       " 'attention_mask': tensor([1, 1, 1, 1, 1, 1, 1, 1, 1, 1, 1, 1, 1, 1, 1, 1, 1, 1, 1, 1, 1, 1, 1, 1,\n",
       "         1, 1, 1, 1, 1, 1, 1, 1, 1, 1, 1, 1, 1, 1, 1, 1, 1, 1, 1, 1, 1, 1, 1, 1,\n",
       "         1, 1, 1, 1, 1, 1, 1, 1, 1, 1, 1, 1, 1, 1, 1, 1, 1, 1, 1, 1, 1, 1, 1, 1,\n",
       "         1, 1, 1, 1, 1, 1, 1, 1, 1, 1, 1, 1, 1, 1, 1, 1, 1, 1, 1, 1, 1, 1, 1, 1,\n",
       "         1, 1, 1, 1, 1, 1, 1, 1, 1, 1, 1, 1, 1, 1, 1, 1, 1, 1, 1, 1, 1, 1, 1, 1,\n",
       "         1, 1, 1, 1, 1, 1, 1, 1, 1, 1, 1, 1, 1, 1, 1, 1, 1, 1, 1, 1, 1, 1, 1, 1,\n",
       "         1, 1, 1, 1, 1, 1, 1, 1, 1, 1, 1, 1, 1, 1, 1, 1, 1, 1, 1, 1, 1, 1, 1, 1,\n",
       "         1, 1, 1, 1, 1, 1, 1, 1, 1, 1, 1, 1, 1, 1, 1, 1, 1, 1, 1, 1, 1, 1, 1, 1,\n",
       "         1, 1, 1, 1, 1, 1, 1, 1, 1, 1, 1, 1, 1, 1, 1, 1, 1, 1, 1, 1, 1, 1, 1, 1,\n",
       "         1, 1, 1, 1, 1, 1, 1, 1, 1, 1, 1, 1, 1, 1, 1, 1, 1, 1, 1, 1, 1, 1, 1, 0,\n",
       "         0, 0, 0, 0, 0, 0, 0, 0, 0, 0, 0, 0, 0, 0, 0, 0, 0, 0, 0, 0, 0, 0, 0, 0,\n",
       "         0, 0, 0, 0, 0, 0, 0, 0, 0, 0, 0, 0, 0, 0, 0, 0, 0, 0, 0, 0, 0, 0, 0, 0,\n",
       "         0, 0, 0, 0, 0, 0, 0, 0, 0, 0, 0, 0]),\n",
       " 'labels': tensor(0)}"
      ]
     },
     "execution_count": 39,
     "metadata": {},
     "output_type": "execute_result"
    },
    {
     "data": {
      "application/javascript": [
       "\n",
       "            setTimeout(function() {\n",
       "                var nbb_cell_id = 39;\n",
       "                var nbb_unformatted_code = \"test_dataset[8]\";\n",
       "                var nbb_formatted_code = \"test_dataset[8]\";\n",
       "                var nbb_cells = Jupyter.notebook.get_cells();\n",
       "                for (var i = 0; i < nbb_cells.length; ++i) {\n",
       "                    if (nbb_cells[i].input_prompt_number == nbb_cell_id) {\n",
       "                        if (nbb_cells[i].get_text() == nbb_unformatted_code) {\n",
       "                             nbb_cells[i].set_text(nbb_formatted_code);\n",
       "                        }\n",
       "                        break;\n",
       "                    }\n",
       "                }\n",
       "            }, 500);\n",
       "            "
      ],
      "text/plain": [
       "<IPython.core.display.Javascript object>"
      ]
     },
     "metadata": {},
     "output_type": "display_data"
    }
   ],
   "source": [
    "test_dataset[8]"
   ]
  },
  {
   "cell_type": "markdown",
   "id": "6282fddc-dd9c-4da8-b8ce-96deb271a78c",
   "metadata": {},
   "source": [
    "The class as a Pytortch Lightning model was created which uses the pretrained Ditilbert model."
   ]
  },
  {
   "cell_type": "markdown",
   "id": "1f326e01-7475-4c08-aa2c-674caff1c9d3",
   "metadata": {},
   "source": [
    "### Creating the model class and instantiating the model"
   ]
  },
  {
   "cell_type": "code",
   "execution_count": 15,
   "id": "810c3972-f9f7-4331-82c1-944f8a12d06a",
   "metadata": {},
   "outputs": [
    {
     "data": {
      "application/javascript": [
       "\n",
       "            setTimeout(function() {\n",
       "                var nbb_cell_id = 15;\n",
       "                var nbb_unformatted_code = \"lr = 0.001\";\n",
       "                var nbb_formatted_code = \"lr = 0.001\";\n",
       "                var nbb_cells = Jupyter.notebook.get_cells();\n",
       "                for (var i = 0; i < nbb_cells.length; ++i) {\n",
       "                    if (nbb_cells[i].input_prompt_number == nbb_cell_id) {\n",
       "                        if (nbb_cells[i].get_text() == nbb_unformatted_code) {\n",
       "                             nbb_cells[i].set_text(nbb_formatted_code);\n",
       "                        }\n",
       "                        break;\n",
       "                    }\n",
       "                }\n",
       "            }, 500);\n",
       "            "
      ],
      "text/plain": [
       "<IPython.core.display.Javascript object>"
      ]
     },
     "metadata": {},
     "output_type": "display_data"
    }
   ],
   "source": [
    "lr = 0.001"
   ]
  },
  {
   "cell_type": "code",
   "execution_count": 16,
   "id": "9e742a62-a800-4248-98ad-c4cc67950914",
   "metadata": {},
   "outputs": [
    {
     "data": {
      "application/javascript": [
       "\n",
       "            setTimeout(function() {\n",
       "                var nbb_cell_id = 16;\n",
       "                var nbb_unformatted_code = \"class FakeNewsModelDistilbert(pl.LightningModule):\\n    def __init__(self, num_classes: int = 2, lr: float = lr):\\n        super().__init__()\\n        config = DistilBertConfig(\\n            num_labels=num_classes,\\n            lr = lr\\n        )\\n        self.distilbert = DistilBertForSequenceClassification.from_pretrained(\\n            \\\"distilbert-base-cased\\\", config=config, ignore_mismatched_sizes=True\\n        )\\n        self.distilbert_grad(False)\\n        self.lr = lr\\n        self.train_losses = []\\n        self.val_losses = []\\n    \\n    def distilbert_grad(self, requires_grad: bool):\\n        \\\"\\\"\\\"\\n        Freezes or unfreezes the parameters of the base DistilBERT model for fine-tuning.\\n        \\\"\\\"\\\"\\n        for param in self.distilbert.base_model.parameters():\\n            param.requires_grad = requires_grad\\n    \\n    def forward(self, input_ids, attention_mask, labels=None):\\n        if labels is not None:\\n            outputs = self.distilbert(\\n                input_ids=input_ids, attention_mask=attention_mask, labels=labels\\n            )\\n            loss, logits = outputs.loss, outputs.logits\\n            return loss, logits\\n        else:\\n            logits = self.distilbert(input_ids=input_ids, attention_mask=attention_mask)[0]\\n            return logits\\n    \\n\\n    def configure_optimizers(self):\\n        \\\"\\\"\\\"\\n        Configures the optimizer for training the model.\\n\\n        Returns:\\n            optimizer (optim.AdamW): AdamW optimizer with specified learning rate and epsilon.\\n        \\\"\\\"\\\"\\n        return optim.AdamW(\\n            [p for p in self.parameters() if p.requires_grad], lr=self.lr, eps=1e-08\\n        )\\n\\n    def train_dataloader(self):\\n        \\\"\\\"\\\"\\n        Returns a DataLoader for the training dataset.\\n\\n        Returns:\\n            loader (DataLoader): DataLoader for the training dataset.\\n        \\\"\\\"\\\"\\n        dataset = FakeNewsDatasetDistilbert(X_train)\\n        loader = DataLoader(dataset, batch_size=batch_size, shuffle=True, num_workers=3)\\n        return loader\\n\\n    def val_dataloader(self):\\n        \\\"\\\"\\\"\\n        Returns a DataLoader for the validation dataset.\\n\\n        Returns:\\n            loader (DataLoader): DataLoader for the validation dataset.\\n        \\\"\\\"\\\"\\n        dataset = FakeNewsDatasetDistilbert(X_val)\\n        loader = DataLoader(\\n            dataset, batch_size=batch_size, shuffle=False, num_workers=3\\n        )\\n        return loader\\n\\n    def test_dataloader(self):\\n        \\\"\\\"\\\"\\n        Returns a DataLoader for the test dataset.\\n\\n        Returns:\\n            loader (DataLoader): DataLoader for the test dataset.\\n        \\\"\\\"\\\"\\n        dataset = FakeNewsDatasetDistilbert(X_test)\\n        loader = DataLoader(\\n            dataset, batch_size=batch_size, shuffle=False, num_workers=3\\n        )\\n        return loader\\n\\n    def training_step(self, batch, batch_idx):\\n        \\\"\\\"\\\"\\n        Performs a single training step.\\n\\n        Args:\\n            batch (torch.Tensor): Batch of data.\\n            batch_idx (int): Index of the batch.\\n\\n        Returns:\\n            Loss (torch.Tensor): Loss value.\\n        \\\"\\\"\\\"\\n        bert_input = batch\\n        loss, logits = self(**bert_input)\\n        loss = loss.mean()\\n        self.log(\\\"train_loss\\\", loss)\\n        self.train_losses.append(loss)\\n        return loss\\n\\n    def validation_step(self, val_batch, batch_idx):\\n        \\\"\\\"\\\"\\n        Performs a single validation step.\\n\\n        Args:\\n            val_batch (torch.Tensor): Batch of data.\\n            batch_idx (int): Index of the batch.\\n\\n        Returns:\\n            loss (torch.Tensor): Loss value.\\n        \\\"\\\"\\\"\\n        bert_input = val_batch\\n        loss, logits = self(**bert_input)\\n        loss = loss.mean()\\n        self.log(\\\"val_loss\\\", loss)\\n        self.val_losses.append(loss)\\n        return loss\\n\\n    def test_step(self, test_batch, batch_idx):\\n        \\\"\\\"\\\"\\n        Performs a single testing step.\\n\\n        Args:\\n            test_batch (torch.Tensor): Batch of data.\\n            batch_idx (int): Index of the batch.\\n\\n        Returns:\\n            logits (torch.Tensor): Logits output from the model.\\n        \\\"\\\"\\\"\\n        bert_input = test_batch\\n        logits = self(**bert_input)\\n        return logits\\n\\n    def test_epoch_end(self, outputs):\\n        \\\"\\\"\\\"\\n        Performs operations on the outputs of the test data.\\n\\n        Args:\\n            outputs (list): List of outputs from the test data.\\n\\n        Returns:\\n            all_logits (torch.Tensor): Concatenated logits from all batches.\\n        \\\"\\\"\\\"\\n        all_logits = torch.cat(outputs, dim=0)\\n        return all_logits\\n\\n    def on_train_epoch_end(self):\\n        \\\"\\\"\\\"\\n        Performs operations at the end of each training epoch.\\n        \\\"\\\"\\\"\\n        train_loss = torch.stack(self.train_losses).mean()\\n        self.log(\\\"avg_train_loss\\\", train_loss)\\n\\n    def on_validation_epoch_end(self):\\n        \\\"\\\"\\\"\\n        Performs operations at the end of each validation epoch.\\n        \\\"\\\"\\\"\\n        val_loss = torch.stack(self.val_losses).mean()\\n        self.log(\\\"ag_val_loss\\\", val_loss)\";\n",
       "                var nbb_formatted_code = \"class FakeNewsModelDistilbert(pl.LightningModule):\\n    def __init__(self, num_classes: int = 2, lr: float = lr):\\n        super().__init__()\\n        config = DistilBertConfig(num_labels=num_classes, lr=lr)\\n        self.distilbert = DistilBertForSequenceClassification.from_pretrained(\\n            \\\"distilbert-base-cased\\\", config=config, ignore_mismatched_sizes=True\\n        )\\n        self.distilbert_grad(False)\\n        self.lr = lr\\n        self.train_losses = []\\n        self.val_losses = []\\n\\n    def distilbert_grad(self, requires_grad: bool):\\n        \\\"\\\"\\\"\\n        Freezes or unfreezes the parameters of the base DistilBERT model for fine-tuning.\\n        \\\"\\\"\\\"\\n        for param in self.distilbert.base_model.parameters():\\n            param.requires_grad = requires_grad\\n\\n    def forward(self, input_ids, attention_mask, labels=None):\\n        if labels is not None:\\n            outputs = self.distilbert(\\n                input_ids=input_ids, attention_mask=attention_mask, labels=labels\\n            )\\n            loss, logits = outputs.loss, outputs.logits\\n            return loss, logits\\n        else:\\n            logits = self.distilbert(\\n                input_ids=input_ids, attention_mask=attention_mask\\n            )[0]\\n            return logits\\n\\n    def configure_optimizers(self):\\n        \\\"\\\"\\\"\\n        Configures the optimizer for training the model.\\n\\n        Returns:\\n            optimizer (optim.AdamW): AdamW optimizer with specified learning rate and epsilon.\\n        \\\"\\\"\\\"\\n        return optim.AdamW(\\n            [p for p in self.parameters() if p.requires_grad], lr=self.lr, eps=1e-08\\n        )\\n\\n    def train_dataloader(self):\\n        \\\"\\\"\\\"\\n        Returns a DataLoader for the training dataset.\\n\\n        Returns:\\n            loader (DataLoader): DataLoader for the training dataset.\\n        \\\"\\\"\\\"\\n        dataset = FakeNewsDatasetDistilbert(X_train)\\n        loader = DataLoader(dataset, batch_size=batch_size, shuffle=True, num_workers=3)\\n        return loader\\n\\n    def val_dataloader(self):\\n        \\\"\\\"\\\"\\n        Returns a DataLoader for the validation dataset.\\n\\n        Returns:\\n            loader (DataLoader): DataLoader for the validation dataset.\\n        \\\"\\\"\\\"\\n        dataset = FakeNewsDatasetDistilbert(X_val)\\n        loader = DataLoader(\\n            dataset, batch_size=batch_size, shuffle=False, num_workers=3\\n        )\\n        return loader\\n\\n    def test_dataloader(self):\\n        \\\"\\\"\\\"\\n        Returns a DataLoader for the test dataset.\\n\\n        Returns:\\n            loader (DataLoader): DataLoader for the test dataset.\\n        \\\"\\\"\\\"\\n        dataset = FakeNewsDatasetDistilbert(X_test)\\n        loader = DataLoader(\\n            dataset, batch_size=batch_size, shuffle=False, num_workers=3\\n        )\\n        return loader\\n\\n    def training_step(self, batch, batch_idx):\\n        \\\"\\\"\\\"\\n        Performs a single training step.\\n\\n        Args:\\n            batch (torch.Tensor): Batch of data.\\n            batch_idx (int): Index of the batch.\\n\\n        Returns:\\n            Loss (torch.Tensor): Loss value.\\n        \\\"\\\"\\\"\\n        bert_input = batch\\n        loss, logits = self(**bert_input)\\n        loss = loss.mean()\\n        self.log(\\\"train_loss\\\", loss)\\n        self.train_losses.append(loss)\\n        return loss\\n\\n    def validation_step(self, val_batch, batch_idx):\\n        \\\"\\\"\\\"\\n        Performs a single validation step.\\n\\n        Args:\\n            val_batch (torch.Tensor): Batch of data.\\n            batch_idx (int): Index of the batch.\\n\\n        Returns:\\n            loss (torch.Tensor): Loss value.\\n        \\\"\\\"\\\"\\n        bert_input = val_batch\\n        loss, logits = self(**bert_input)\\n        loss = loss.mean()\\n        self.log(\\\"val_loss\\\", loss)\\n        self.val_losses.append(loss)\\n        return loss\\n\\n    def test_step(self, test_batch, batch_idx):\\n        \\\"\\\"\\\"\\n        Performs a single testing step.\\n\\n        Args:\\n            test_batch (torch.Tensor): Batch of data.\\n            batch_idx (int): Index of the batch.\\n\\n        Returns:\\n            logits (torch.Tensor): Logits output from the model.\\n        \\\"\\\"\\\"\\n        bert_input = test_batch\\n        logits = self(**bert_input)\\n        return logits\\n\\n    def test_epoch_end(self, outputs):\\n        \\\"\\\"\\\"\\n        Performs operations on the outputs of the test data.\\n\\n        Args:\\n            outputs (list): List of outputs from the test data.\\n\\n        Returns:\\n            all_logits (torch.Tensor): Concatenated logits from all batches.\\n        \\\"\\\"\\\"\\n        all_logits = torch.cat(outputs, dim=0)\\n        return all_logits\\n\\n    def on_train_epoch_end(self):\\n        \\\"\\\"\\\"\\n        Performs operations at the end of each training epoch.\\n        \\\"\\\"\\\"\\n        train_loss = torch.stack(self.train_losses).mean()\\n        self.log(\\\"avg_train_loss\\\", train_loss)\\n\\n    def on_validation_epoch_end(self):\\n        \\\"\\\"\\\"\\n        Performs operations at the end of each validation epoch.\\n        \\\"\\\"\\\"\\n        val_loss = torch.stack(self.val_losses).mean()\\n        self.log(\\\"ag_val_loss\\\", val_loss)\";\n",
       "                var nbb_cells = Jupyter.notebook.get_cells();\n",
       "                for (var i = 0; i < nbb_cells.length; ++i) {\n",
       "                    if (nbb_cells[i].input_prompt_number == nbb_cell_id) {\n",
       "                        if (nbb_cells[i].get_text() == nbb_unformatted_code) {\n",
       "                             nbb_cells[i].set_text(nbb_formatted_code);\n",
       "                        }\n",
       "                        break;\n",
       "                    }\n",
       "                }\n",
       "            }, 500);\n",
       "            "
      ],
      "text/plain": [
       "<IPython.core.display.Javascript object>"
      ]
     },
     "metadata": {},
     "output_type": "display_data"
    }
   ],
   "source": [
    "class FakeNewsModelDistilbert(pl.LightningModule):\n",
    "    def __init__(self, num_classes: int = 2, lr: float = lr):\n",
    "        super().__init__()\n",
    "        config = DistilBertConfig(\n",
    "            num_labels=num_classes,\n",
    "            lr = lr\n",
    "        )\n",
    "        self.distilbert = DistilBertForSequenceClassification.from_pretrained(\n",
    "            \"distilbert-base-cased\", config=config, ignore_mismatched_sizes=True\n",
    "        )\n",
    "        self.distilbert_grad(False)\n",
    "        self.lr = lr\n",
    "        self.train_losses = []\n",
    "        self.val_losses = []\n",
    "    \n",
    "    def distilbert_grad(self, requires_grad: bool):\n",
    "        \"\"\"\n",
    "        Freezes or unfreezes the parameters of the base DistilBERT model for fine-tuning.\n",
    "        \"\"\"\n",
    "        for param in self.distilbert.base_model.parameters():\n",
    "            param.requires_grad = requires_grad\n",
    "    \n",
    "    def forward(self, input_ids, attention_mask, labels=None):\n",
    "        if labels is not None:\n",
    "            outputs = self.distilbert(\n",
    "                input_ids=input_ids, attention_mask=attention_mask, labels=labels\n",
    "            )\n",
    "            loss, logits = outputs.loss, outputs.logits\n",
    "            return loss, logits\n",
    "        else:\n",
    "            logits = self.distilbert(input_ids=input_ids, attention_mask=attention_mask)[0]\n",
    "            return logits\n",
    "    \n",
    "\n",
    "    def configure_optimizers(self):\n",
    "        \"\"\"\n",
    "        Configures the optimizer for training the model.\n",
    "\n",
    "        Returns:\n",
    "            optimizer (optim.AdamW): AdamW optimizer with specified learning rate and epsilon.\n",
    "        \"\"\"\n",
    "        return optim.AdamW(\n",
    "            [p for p in self.parameters() if p.requires_grad], lr=self.lr, eps=1e-08\n",
    "        )\n",
    "\n",
    "    def train_dataloader(self):\n",
    "        \"\"\"\n",
    "        Returns a DataLoader for the training dataset.\n",
    "\n",
    "        Returns:\n",
    "            loader (DataLoader): DataLoader for the training dataset.\n",
    "        \"\"\"\n",
    "        dataset = FakeNewsDatasetDistilbert(X_train)\n",
    "        loader = DataLoader(dataset, batch_size=batch_size, shuffle=True, num_workers=3)\n",
    "        return loader\n",
    "\n",
    "    def val_dataloader(self):\n",
    "        \"\"\"\n",
    "        Returns a DataLoader for the validation dataset.\n",
    "\n",
    "        Returns:\n",
    "            loader (DataLoader): DataLoader for the validation dataset.\n",
    "        \"\"\"\n",
    "        dataset = FakeNewsDatasetDistilbert(X_val)\n",
    "        loader = DataLoader(\n",
    "            dataset, batch_size=batch_size, shuffle=False, num_workers=3\n",
    "        )\n",
    "        return loader\n",
    "\n",
    "    def test_dataloader(self):\n",
    "        \"\"\"\n",
    "        Returns a DataLoader for the test dataset.\n",
    "\n",
    "        Returns:\n",
    "            loader (DataLoader): DataLoader for the test dataset.\n",
    "        \"\"\"\n",
    "        dataset = FakeNewsDatasetDistilbert(X_test)\n",
    "        loader = DataLoader(\n",
    "            dataset, batch_size=batch_size, shuffle=False, num_workers=3\n",
    "        )\n",
    "        return loader\n",
    "\n",
    "    def training_step(self, batch, batch_idx):\n",
    "        \"\"\"\n",
    "        Performs a single training step.\n",
    "\n",
    "        Args:\n",
    "            batch (torch.Tensor): Batch of data.\n",
    "            batch_idx (int): Index of the batch.\n",
    "\n",
    "        Returns:\n",
    "            Loss (torch.Tensor): Loss value.\n",
    "        \"\"\"\n",
    "        bert_input = batch\n",
    "        loss, logits = self(**bert_input)\n",
    "        loss = loss.mean()\n",
    "        self.log(\"train_loss\", loss)\n",
    "        self.train_losses.append(loss)\n",
    "        return loss\n",
    "\n",
    "    def validation_step(self, val_batch, batch_idx):\n",
    "        \"\"\"\n",
    "        Performs a single validation step.\n",
    "\n",
    "        Args:\n",
    "            val_batch (torch.Tensor): Batch of data.\n",
    "            batch_idx (int): Index of the batch.\n",
    "\n",
    "        Returns:\n",
    "            loss (torch.Tensor): Loss value.\n",
    "        \"\"\"\n",
    "        bert_input = val_batch\n",
    "        loss, logits = self(**bert_input)\n",
    "        loss = loss.mean()\n",
    "        self.log(\"val_loss\", loss)\n",
    "        self.val_losses.append(loss)\n",
    "        return loss\n",
    "\n",
    "    def test_step(self, test_batch, batch_idx):\n",
    "        \"\"\"\n",
    "        Performs a single testing step.\n",
    "\n",
    "        Args:\n",
    "            test_batch (torch.Tensor): Batch of data.\n",
    "            batch_idx (int): Index of the batch.\n",
    "\n",
    "        Returns:\n",
    "            logits (torch.Tensor): Logits output from the model.\n",
    "        \"\"\"\n",
    "        bert_input = test_batch\n",
    "        logits = self(**bert_input)\n",
    "        return logits\n",
    "\n",
    "    def test_epoch_end(self, outputs):\n",
    "        \"\"\"\n",
    "        Performs operations on the outputs of the test data.\n",
    "\n",
    "        Args:\n",
    "            outputs (list): List of outputs from the test data.\n",
    "\n",
    "        Returns:\n",
    "            all_logits (torch.Tensor): Concatenated logits from all batches.\n",
    "        \"\"\"\n",
    "        all_logits = torch.cat(outputs, dim=0)\n",
    "        return all_logits\n",
    "\n",
    "    def on_train_epoch_end(self):\n",
    "        \"\"\"\n",
    "        Performs operations at the end of each training epoch.\n",
    "        \"\"\"\n",
    "        train_loss = torch.stack(self.train_losses).mean()\n",
    "        self.log(\"avg_train_loss\", train_loss)\n",
    "\n",
    "    def on_validation_epoch_end(self):\n",
    "        \"\"\"\n",
    "        Performs operations at the end of each validation epoch.\n",
    "        \"\"\"\n",
    "        val_loss = torch.stack(self.val_losses).mean()\n",
    "        self.log(\"ag_val_loss\", val_loss)"
   ]
  },
  {
   "cell_type": "markdown",
   "id": "5f6efa3d-ab26-4e69-bd84-4bc5b9d28010",
   "metadata": {},
   "source": [
    "Batch size 5 was used for loading the data. Model was initalized, GPU processor was attached. "
   ]
  },
  {
   "cell_type": "code",
   "execution_count": 17,
   "id": "880d9481",
   "metadata": {},
   "outputs": [
    {
     "data": {
      "application/javascript": [
       "\n",
       "            setTimeout(function() {\n",
       "                var nbb_cell_id = 17;\n",
       "                var nbb_unformatted_code = \"batch_size = 5\";\n",
       "                var nbb_formatted_code = \"batch_size = 5\";\n",
       "                var nbb_cells = Jupyter.notebook.get_cells();\n",
       "                for (var i = 0; i < nbb_cells.length; ++i) {\n",
       "                    if (nbb_cells[i].input_prompt_number == nbb_cell_id) {\n",
       "                        if (nbb_cells[i].get_text() == nbb_unformatted_code) {\n",
       "                             nbb_cells[i].set_text(nbb_formatted_code);\n",
       "                        }\n",
       "                        break;\n",
       "                    }\n",
       "                }\n",
       "            }, 500);\n",
       "            "
      ],
      "text/plain": [
       "<IPython.core.display.Javascript object>"
      ]
     },
     "metadata": {},
     "output_type": "display_data"
    }
   ],
   "source": [
    "batch_size = 5"
   ]
  },
  {
   "cell_type": "code",
   "execution_count": 18,
   "id": "866bccac",
   "metadata": {},
   "outputs": [
    {
     "name": "stderr",
     "output_type": "stream",
     "text": [
      "Some weights of DistilBertForSequenceClassification were not initialized from the model checkpoint at distilbert-base-cased and are newly initialized: ['pre_classifier.bias', 'pre_classifier.weight', 'classifier.weight', 'classifier.bias']\n",
      "You should probably TRAIN this model on a down-stream task to be able to use it for predictions and inference.\n",
      "Some weights of DistilBertForSequenceClassification were not initialized from the model checkpoint at distilbert-base-cased and are newly initialized because the shapes did not match:\n",
      "- distilbert.embeddings.word_embeddings.weight: found shape torch.Size([28996, 768]) in the checkpoint and torch.Size([30522, 768]) in the model instantiated\n",
      "You should probably TRAIN this model on a down-stream task to be able to use it for predictions and inference.\n"
     ]
    },
    {
     "data": {
      "application/javascript": [
       "\n",
       "            setTimeout(function() {\n",
       "                var nbb_cell_id = 18;\n",
       "                var nbb_unformatted_code = \"model = FakeNewsModelDistilbert()\";\n",
       "                var nbb_formatted_code = \"model = FakeNewsModelDistilbert()\";\n",
       "                var nbb_cells = Jupyter.notebook.get_cells();\n",
       "                for (var i = 0; i < nbb_cells.length; ++i) {\n",
       "                    if (nbb_cells[i].input_prompt_number == nbb_cell_id) {\n",
       "                        if (nbb_cells[i].get_text() == nbb_unformatted_code) {\n",
       "                             nbb_cells[i].set_text(nbb_formatted_code);\n",
       "                        }\n",
       "                        break;\n",
       "                    }\n",
       "                }\n",
       "            }, 500);\n",
       "            "
      ],
      "text/plain": [
       "<IPython.core.display.Javascript object>"
      ]
     },
     "metadata": {},
     "output_type": "display_data"
    }
   ],
   "source": [
    "model = FakeNewsModelDistilbert()"
   ]
  },
  {
   "cell_type": "code",
   "execution_count": 19,
   "id": "f9637c5b",
   "metadata": {},
   "outputs": [
    {
     "data": {
      "application/javascript": [
       "\n",
       "            setTimeout(function() {\n",
       "                var nbb_cell_id = 19;\n",
       "                var nbb_unformatted_code = \"device = torch.device(\\\"mps\\\")\";\n",
       "                var nbb_formatted_code = \"device = torch.device(\\\"mps\\\")\";\n",
       "                var nbb_cells = Jupyter.notebook.get_cells();\n",
       "                for (var i = 0; i < nbb_cells.length; ++i) {\n",
       "                    if (nbb_cells[i].input_prompt_number == nbb_cell_id) {\n",
       "                        if (nbb_cells[i].get_text() == nbb_unformatted_code) {\n",
       "                             nbb_cells[i].set_text(nbb_formatted_code);\n",
       "                        }\n",
       "                        break;\n",
       "                    }\n",
       "                }\n",
       "            }, 500);\n",
       "            "
      ],
      "text/plain": [
       "<IPython.core.display.Javascript object>"
      ]
     },
     "metadata": {},
     "output_type": "display_data"
    }
   ],
   "source": [
    "device = torch.device(\"mps\")\n"
   ]
  },
  {
   "cell_type": "code",
   "execution_count": 20,
   "id": "32d79357",
   "metadata": {},
   "outputs": [
    {
     "data": {
      "text/plain": [
       "FakeNewsModelDistilbert(\n",
       "  (distilbert): DistilBertForSequenceClassification(\n",
       "    (distilbert): DistilBertModel(\n",
       "      (embeddings): Embeddings(\n",
       "        (word_embeddings): Embedding(30522, 768, padding_idx=0)\n",
       "        (position_embeddings): Embedding(512, 768)\n",
       "        (LayerNorm): LayerNorm((768,), eps=1e-12, elementwise_affine=True)\n",
       "        (dropout): Dropout(p=0.1, inplace=False)\n",
       "      )\n",
       "      (transformer): Transformer(\n",
       "        (layer): ModuleList(\n",
       "          (0-5): 6 x TransformerBlock(\n",
       "            (attention): MultiHeadSelfAttention(\n",
       "              (dropout): Dropout(p=0.1, inplace=False)\n",
       "              (q_lin): Linear(in_features=768, out_features=768, bias=True)\n",
       "              (k_lin): Linear(in_features=768, out_features=768, bias=True)\n",
       "              (v_lin): Linear(in_features=768, out_features=768, bias=True)\n",
       "              (out_lin): Linear(in_features=768, out_features=768, bias=True)\n",
       "            )\n",
       "            (sa_layer_norm): LayerNorm((768,), eps=1e-12, elementwise_affine=True)\n",
       "            (ffn): FFN(\n",
       "              (dropout): Dropout(p=0.1, inplace=False)\n",
       "              (lin1): Linear(in_features=768, out_features=3072, bias=True)\n",
       "              (lin2): Linear(in_features=3072, out_features=768, bias=True)\n",
       "              (activation): GELUActivation()\n",
       "            )\n",
       "            (output_layer_norm): LayerNorm((768,), eps=1e-12, elementwise_affine=True)\n",
       "          )\n",
       "        )\n",
       "      )\n",
       "    )\n",
       "    (pre_classifier): Linear(in_features=768, out_features=768, bias=True)\n",
       "    (classifier): Linear(in_features=768, out_features=2, bias=True)\n",
       "    (dropout): Dropout(p=0.2, inplace=False)\n",
       "  )\n",
       ")"
      ]
     },
     "execution_count": 20,
     "metadata": {},
     "output_type": "execute_result"
    },
    {
     "data": {
      "application/javascript": [
       "\n",
       "            setTimeout(function() {\n",
       "                var nbb_cell_id = 20;\n",
       "                var nbb_unformatted_code = \"model.to(device)\";\n",
       "                var nbb_formatted_code = \"model.to(device)\";\n",
       "                var nbb_cells = Jupyter.notebook.get_cells();\n",
       "                for (var i = 0; i < nbb_cells.length; ++i) {\n",
       "                    if (nbb_cells[i].input_prompt_number == nbb_cell_id) {\n",
       "                        if (nbb_cells[i].get_text() == nbb_unformatted_code) {\n",
       "                             nbb_cells[i].set_text(nbb_formatted_code);\n",
       "                        }\n",
       "                        break;\n",
       "                    }\n",
       "                }\n",
       "            }, 500);\n",
       "            "
      ],
      "text/plain": [
       "<IPython.core.display.Javascript object>"
      ]
     },
     "metadata": {},
     "output_type": "display_data"
    }
   ],
   "source": [
    "model.to(device)"
   ]
  },
  {
   "cell_type": "code",
   "execution_count": 21,
   "id": "31485f74",
   "metadata": {},
   "outputs": [
    {
     "data": {
      "application/javascript": [
       "\n",
       "            setTimeout(function() {\n",
       "                var nbb_cell_id = 21;\n",
       "                var nbb_unformatted_code = \"tensorboard_logger = pl.loggers.TensorBoardLogger(\\n    save_dir=\\\"./logs\\\", name=\\\"single_label_classification\\\"\\n)\";\n",
       "                var nbb_formatted_code = \"tensorboard_logger = pl.loggers.TensorBoardLogger(\\n    save_dir=\\\"./logs\\\", name=\\\"single_label_classification\\\"\\n)\";\n",
       "                var nbb_cells = Jupyter.notebook.get_cells();\n",
       "                for (var i = 0; i < nbb_cells.length; ++i) {\n",
       "                    if (nbb_cells[i].input_prompt_number == nbb_cell_id) {\n",
       "                        if (nbb_cells[i].get_text() == nbb_unformatted_code) {\n",
       "                             nbb_cells[i].set_text(nbb_formatted_code);\n",
       "                        }\n",
       "                        break;\n",
       "                    }\n",
       "                }\n",
       "            }, 500);\n",
       "            "
      ],
      "text/plain": [
       "<IPython.core.display.Javascript object>"
      ]
     },
     "metadata": {},
     "output_type": "display_data"
    }
   ],
   "source": [
    "tensorboard_logger = pl.loggers.TensorBoardLogger(\n",
    "    save_dir=\"./logs\", name=\"single_label_classification\"\n",
    ")"
   ]
  },
  {
   "cell_type": "markdown",
   "id": "14380fd8",
   "metadata": {},
   "source": [
    "### Specifying callbacks"
   ]
  },
  {
   "cell_type": "markdown",
   "id": "5b590e7b",
   "metadata": {},
   "source": [
    "The callback classes were created and callbacks initialized. "
   ]
  },
  {
   "cell_type": "code",
   "execution_count": 22,
   "id": "b5b0c115",
   "metadata": {},
   "outputs": [
    {
     "data": {
      "application/javascript": [
       "\n",
       "            setTimeout(function() {\n",
       "                var nbb_cell_id = 22;\n",
       "                var nbb_unformatted_code = \"early_stopping_callback = pl.callbacks.EarlyStopping(monitor='val_loss', patience=3, mode='min')\";\n",
       "                var nbb_formatted_code = \"early_stopping_callback = pl.callbacks.EarlyStopping(\\n    monitor=\\\"val_loss\\\", patience=3, mode=\\\"min\\\"\\n)\";\n",
       "                var nbb_cells = Jupyter.notebook.get_cells();\n",
       "                for (var i = 0; i < nbb_cells.length; ++i) {\n",
       "                    if (nbb_cells[i].input_prompt_number == nbb_cell_id) {\n",
       "                        if (nbb_cells[i].get_text() == nbb_unformatted_code) {\n",
       "                             nbb_cells[i].set_text(nbb_formatted_code);\n",
       "                        }\n",
       "                        break;\n",
       "                    }\n",
       "                }\n",
       "            }, 500);\n",
       "            "
      ],
      "text/plain": [
       "<IPython.core.display.Javascript object>"
      ]
     },
     "metadata": {},
     "output_type": "display_data"
    }
   ],
   "source": [
    "early_stopping_callback = pl.callbacks.EarlyStopping(monitor='val_loss', patience=3, mode='min')\n"
   ]
  },
  {
   "cell_type": "code",
   "execution_count": 23,
   "id": "4e4b8ad4",
   "metadata": {},
   "outputs": [
    {
     "data": {
      "application/javascript": [
       "\n",
       "            setTimeout(function() {\n",
       "                var nbb_cell_id = 23;\n",
       "                var nbb_unformatted_code = \"\\ncheckpoint_callback = ModelCheckpoint(\\n        dirpath=\\\"models/\\\",\\n        filename=f'{{epoch}}-{{val_loss:.2f}}',\\n        monitor=\\\"val_loss\\\",\\n        save_top_k=3,\\n        mode=\\\"min\\\",\\n        every_n_epochs=1,\\n    )\";\n",
       "                var nbb_formatted_code = \"checkpoint_callback = ModelCheckpoint(\\n    dirpath=\\\"models/\\\",\\n    filename=f\\\"{{epoch}}-{{val_loss:.2f}}\\\",\\n    monitor=\\\"val_loss\\\",\\n    save_top_k=3,\\n    mode=\\\"min\\\",\\n    every_n_epochs=1,\\n)\";\n",
       "                var nbb_cells = Jupyter.notebook.get_cells();\n",
       "                for (var i = 0; i < nbb_cells.length; ++i) {\n",
       "                    if (nbb_cells[i].input_prompt_number == nbb_cell_id) {\n",
       "                        if (nbb_cells[i].get_text() == nbb_unformatted_code) {\n",
       "                             nbb_cells[i].set_text(nbb_formatted_code);\n",
       "                        }\n",
       "                        break;\n",
       "                    }\n",
       "                }\n",
       "            }, 500);\n",
       "            "
      ],
      "text/plain": [
       "<IPython.core.display.Javascript object>"
      ]
     },
     "metadata": {},
     "output_type": "display_data"
    }
   ],
   "source": [
    "\n",
    "checkpoint_callback = ModelCheckpoint(\n",
    "        dirpath=\"models/\",\n",
    "        filename=f'{{epoch}}-{{val_loss:.2f}}',\n",
    "        monitor=\"val_loss\",\n",
    "        save_top_k=3,\n",
    "        mode=\"min\",\n",
    "        every_n_epochs=1,\n",
    "    )\n"
   ]
  },
  {
   "cell_type": "code",
   "execution_count": 24,
   "id": "7fe280b8",
   "metadata": {},
   "outputs": [
    {
     "data": {
      "application/javascript": [
       "\n",
       "            setTimeout(function() {\n",
       "                var nbb_cell_id = 24;\n",
       "                var nbb_unformatted_code = \"class ValidationLogCollectorCallback(pl.Callback):\\n    \\\"\\\"\\\"\\n    A PyTorch Lightning callback that collects validation metrics at the end of each validation epoch.\\n    \\\"\\\"\\\"\\n\\n    def __init__(self):\\n        \\\"\\\"\\\"\\n        Initializes the ValidationLogCollectorCallback.\\n        \\\"\\\"\\\"\\n        super().__init__()\\n        self.validation_metrics = []\\n\\n    def on_validation_epoch_end(\\n        self, trainer: pl.Trainer, pl_module: pl.LightningModule\\n    ):\\n        \\\"\\\"\\\"\\n        Collects the validation metrics at the end of each validation epoch.\\n\\n        Args:\\n            trainer (pl.Trainer): The PyTorch Lightning trainer object.\\n            pl_module (pl.LightningModule): The PyTorch Lightning module being trained.\\n        \\\"\\\"\\\"\\n        metrics = trainer.callback_metrics\\n        self.validation_metrics.append(metrics)\\n\\n    def get_metrics_dataframe(self) -> pd.DataFrame:\\n        \\\"\\\"\\\"\\n        Returns a Pandas DataFrame containing the collected validation metrics.\\n\\n        Returns:\\n            pd.DataFrame: A Pandas DataFrame containing the collected validation metrics.\\n        \\\"\\\"\\\"\\n        return pd.DataFrame(self.validation_metrics)\";\n",
       "                var nbb_formatted_code = \"class ValidationLogCollectorCallback(pl.Callback):\\n    \\\"\\\"\\\"\\n    A PyTorch Lightning callback that collects validation metrics at the end of each validation epoch.\\n    \\\"\\\"\\\"\\n\\n    def __init__(self):\\n        \\\"\\\"\\\"\\n        Initializes the ValidationLogCollectorCallback.\\n        \\\"\\\"\\\"\\n        super().__init__()\\n        self.validation_metrics = []\\n\\n    def on_validation_epoch_end(\\n        self, trainer: pl.Trainer, pl_module: pl.LightningModule\\n    ):\\n        \\\"\\\"\\\"\\n        Collects the validation metrics at the end of each validation epoch.\\n\\n        Args:\\n            trainer (pl.Trainer): The PyTorch Lightning trainer object.\\n            pl_module (pl.LightningModule): The PyTorch Lightning module being trained.\\n        \\\"\\\"\\\"\\n        metrics = trainer.callback_metrics\\n        self.validation_metrics.append(metrics)\\n\\n    def get_metrics_dataframe(self) -> pd.DataFrame:\\n        \\\"\\\"\\\"\\n        Returns a Pandas DataFrame containing the collected validation metrics.\\n\\n        Returns:\\n            pd.DataFrame: A Pandas DataFrame containing the collected validation metrics.\\n        \\\"\\\"\\\"\\n        return pd.DataFrame(self.validation_metrics)\";\n",
       "                var nbb_cells = Jupyter.notebook.get_cells();\n",
       "                for (var i = 0; i < nbb_cells.length; ++i) {\n",
       "                    if (nbb_cells[i].input_prompt_number == nbb_cell_id) {\n",
       "                        if (nbb_cells[i].get_text() == nbb_unformatted_code) {\n",
       "                             nbb_cells[i].set_text(nbb_formatted_code);\n",
       "                        }\n",
       "                        break;\n",
       "                    }\n",
       "                }\n",
       "            }, 500);\n",
       "            "
      ],
      "text/plain": [
       "<IPython.core.display.Javascript object>"
      ]
     },
     "metadata": {},
     "output_type": "display_data"
    }
   ],
   "source": [
    "class ValidationLogCollectorCallback(pl.Callback):\n",
    "    \"\"\"\n",
    "    A PyTorch Lightning callback that collects validation metrics at the end of each validation epoch.\n",
    "    \"\"\"\n",
    "\n",
    "    def __init__(self):\n",
    "        \"\"\"\n",
    "        Initializes the ValidationLogCollectorCallback.\n",
    "        \"\"\"\n",
    "        super().__init__()\n",
    "        self.validation_metrics = []\n",
    "\n",
    "    def on_validation_epoch_end(\n",
    "        self, trainer: pl.Trainer, pl_module: pl.LightningModule\n",
    "    ):\n",
    "        \"\"\"\n",
    "        Collects the validation metrics at the end of each validation epoch.\n",
    "\n",
    "        Args:\n",
    "            trainer (pl.Trainer): The PyTorch Lightning trainer object.\n",
    "            pl_module (pl.LightningModule): The PyTorch Lightning module being trained.\n",
    "        \"\"\"\n",
    "        metrics = trainer.callback_metrics\n",
    "        self.validation_metrics.append(metrics)\n",
    "\n",
    "    def get_metrics_dataframe(self) -> pd.DataFrame:\n",
    "        \"\"\"\n",
    "        Returns a Pandas DataFrame containing the collected validation metrics.\n",
    "\n",
    "        Returns:\n",
    "            pd.DataFrame: A Pandas DataFrame containing the collected validation metrics.\n",
    "        \"\"\"\n",
    "        return pd.DataFrame(self.validation_metrics)"
   ]
  },
  {
   "cell_type": "code",
   "execution_count": 25,
   "id": "cd052843",
   "metadata": {},
   "outputs": [
    {
     "data": {
      "application/javascript": [
       "\n",
       "            setTimeout(function() {\n",
       "                var nbb_cell_id = 25;\n",
       "                var nbb_unformatted_code = \"class EpochTimeCallback(pl.Callback):\\n    \\\"\\\"\\\"\\n    A PyTorch Lightning callback to measure and store the duration of each epoch.\\n    \\n    Attributes:\\n    epoch_times_df (pd.DataFrame): A dataframe containing epoch numbers and their corresponding durations.\\n    \\\"\\\"\\\"\\n\\n    def __init__(self):\\n        \\\"\\\"\\\"Initializes the callback and sets up an empty dataframe to store epoch times.\\\"\\\"\\\"\\n        super().__init__()\\n        self.epoch_times_df: pd.DataFrame = pd.DataFrame(columns=['Epoch', 'Duration'])\\n\\n    def on_epoch_start(self, trainer: pl.Trainer, pl_module: pl.LightningModule) -> None:\\n        \\\"\\\"\\\"\\n        Record the start time of the epoch.\\n\\n        Args:\\n        trainer (pl.Trainer): The trainer object.\\n        pl_module (pl.LightningModule): The model/module being trained.\\n        \\\"\\\"\\\"\\n        self.epoch_start_time = time.time()\\n\\n    def on_epoch_end(self, trainer: pl.Trainer, pl_module: pl.LightningModule) -> None:\\n        \\\"\\\"\\\"\\n        Calculate and store the duration of the epoch, and print the epoch duration.\\n\\n        Args:\\n        trainer (pl.Trainer): The trainer object.\\n        pl_module (pl.LightningModule): The model/module being trained.\\n        \\\"\\\"\\\"\\n        epoch_end_time = time.time()\\n        epoch_duration = epoch_end_time - self.epoch_start_time\\n        epoch = trainer.current_epoch + 1\\n\\n        self.epoch_times_df.loc[len(self.epoch_times_df)] = [epoch, epoch_duration]\\n        print(f\\\"Epoch {epoch} execution time: {epoch_duration:.2f} seconds\\\")\\n\\n    def get_epoch_times_df(self) -> pd.DataFrame:\\n        \\\"\\\"\\\"\\n        Retrieve the dataframe containing epoch durations.\\n\\n        Returns:\\n        pd.DataFrame: A dataframe containing epoch numbers and their corresponding durations.\\n        \\\"\\\"\\\"\\n        return self.epoch_times_df\";\n",
       "                var nbb_formatted_code = \"class EpochTimeCallback(pl.Callback):\\n    \\\"\\\"\\\"\\n    A PyTorch Lightning callback to measure and store the duration of each epoch.\\n\\n    Attributes:\\n    epoch_times_df (pd.DataFrame): A dataframe containing epoch numbers and their corresponding durations.\\n    \\\"\\\"\\\"\\n\\n    def __init__(self):\\n        \\\"\\\"\\\"Initializes the callback and sets up an empty dataframe to store epoch times.\\\"\\\"\\\"\\n        super().__init__()\\n        self.epoch_times_df: pd.DataFrame = pd.DataFrame(columns=[\\\"Epoch\\\", \\\"Duration\\\"])\\n\\n    def on_epoch_start(\\n        self, trainer: pl.Trainer, pl_module: pl.LightningModule\\n    ) -> None:\\n        \\\"\\\"\\\"\\n        Record the start time of the epoch.\\n\\n        Args:\\n        trainer (pl.Trainer): The trainer object.\\n        pl_module (pl.LightningModule): The model/module being trained.\\n        \\\"\\\"\\\"\\n        self.epoch_start_time = time.time()\\n\\n    def on_epoch_end(self, trainer: pl.Trainer, pl_module: pl.LightningModule) -> None:\\n        \\\"\\\"\\\"\\n        Calculate and store the duration of the epoch, and print the epoch duration.\\n\\n        Args:\\n        trainer (pl.Trainer): The trainer object.\\n        pl_module (pl.LightningModule): The model/module being trained.\\n        \\\"\\\"\\\"\\n        epoch_end_time = time.time()\\n        epoch_duration = epoch_end_time - self.epoch_start_time\\n        epoch = trainer.current_epoch + 1\\n\\n        self.epoch_times_df.loc[len(self.epoch_times_df)] = [epoch, epoch_duration]\\n        print(f\\\"Epoch {epoch} execution time: {epoch_duration:.2f} seconds\\\")\\n\\n    def get_epoch_times_df(self) -> pd.DataFrame:\\n        \\\"\\\"\\\"\\n        Retrieve the dataframe containing epoch durations.\\n\\n        Returns:\\n        pd.DataFrame: A dataframe containing epoch numbers and their corresponding durations.\\n        \\\"\\\"\\\"\\n        return self.epoch_times_df\";\n",
       "                var nbb_cells = Jupyter.notebook.get_cells();\n",
       "                for (var i = 0; i < nbb_cells.length; ++i) {\n",
       "                    if (nbb_cells[i].input_prompt_number == nbb_cell_id) {\n",
       "                        if (nbb_cells[i].get_text() == nbb_unformatted_code) {\n",
       "                             nbb_cells[i].set_text(nbb_formatted_code);\n",
       "                        }\n",
       "                        break;\n",
       "                    }\n",
       "                }\n",
       "            }, 500);\n",
       "            "
      ],
      "text/plain": [
       "<IPython.core.display.Javascript object>"
      ]
     },
     "metadata": {},
     "output_type": "display_data"
    }
   ],
   "source": [
    "class EpochTimeCallback(pl.Callback):\n",
    "    \"\"\"\n",
    "    A PyTorch Lightning callback to measure and store the duration of each epoch.\n",
    "    \n",
    "    Attributes:\n",
    "    epoch_times_df (pd.DataFrame): A dataframe containing epoch numbers and their corresponding durations.\n",
    "    \"\"\"\n",
    "\n",
    "    def __init__(self):\n",
    "        \"\"\"Initializes the callback and sets up an empty dataframe to store epoch times.\"\"\"\n",
    "        super().__init__()\n",
    "        self.epoch_times_df: pd.DataFrame = pd.DataFrame(columns=['Epoch', 'Duration'])\n",
    "\n",
    "    def on_epoch_start(self, trainer: pl.Trainer, pl_module: pl.LightningModule) -> None:\n",
    "        \"\"\"\n",
    "        Record the start time of the epoch.\n",
    "\n",
    "        Args:\n",
    "        trainer (pl.Trainer): The trainer object.\n",
    "        pl_module (pl.LightningModule): The model/module being trained.\n",
    "        \"\"\"\n",
    "        self.epoch_start_time = time.time()\n",
    "\n",
    "    def on_epoch_end(self, trainer: pl.Trainer, pl_module: pl.LightningModule) -> None:\n",
    "        \"\"\"\n",
    "        Calculate and store the duration of the epoch, and print the epoch duration.\n",
    "\n",
    "        Args:\n",
    "        trainer (pl.Trainer): The trainer object.\n",
    "        pl_module (pl.LightningModule): The model/module being trained.\n",
    "        \"\"\"\n",
    "        epoch_end_time = time.time()\n",
    "        epoch_duration = epoch_end_time - self.epoch_start_time\n",
    "        epoch = trainer.current_epoch + 1\n",
    "\n",
    "        self.epoch_times_df.loc[len(self.epoch_times_df)] = [epoch, epoch_duration]\n",
    "        print(f\"Epoch {epoch} execution time: {epoch_duration:.2f} seconds\")\n",
    "\n",
    "    def get_epoch_times_df(self) -> pd.DataFrame:\n",
    "        \"\"\"\n",
    "        Retrieve the dataframe containing epoch durations.\n",
    "\n",
    "        Returns:\n",
    "        pd.DataFrame: A dataframe containing epoch numbers and their corresponding durations.\n",
    "        \"\"\"\n",
    "        return self.epoch_times_df\n"
   ]
  },
  {
   "cell_type": "code",
   "execution_count": 26,
   "id": "3c8867b8",
   "metadata": {},
   "outputs": [
    {
     "data": {
      "application/javascript": [
       "\n",
       "            setTimeout(function() {\n",
       "                var nbb_cell_id = 26;\n",
       "                var nbb_unformatted_code = \"log_collector = ValidationLogCollectorCallback()\";\n",
       "                var nbb_formatted_code = \"log_collector = ValidationLogCollectorCallback()\";\n",
       "                var nbb_cells = Jupyter.notebook.get_cells();\n",
       "                for (var i = 0; i < nbb_cells.length; ++i) {\n",
       "                    if (nbb_cells[i].input_prompt_number == nbb_cell_id) {\n",
       "                        if (nbb_cells[i].get_text() == nbb_unformatted_code) {\n",
       "                             nbb_cells[i].set_text(nbb_formatted_code);\n",
       "                        }\n",
       "                        break;\n",
       "                    }\n",
       "                }\n",
       "            }, 500);\n",
       "            "
      ],
      "text/plain": [
       "<IPython.core.display.Javascript object>"
      ]
     },
     "metadata": {},
     "output_type": "display_data"
    }
   ],
   "source": [
    "log_collector = ValidationLogCollectorCallback()"
   ]
  },
  {
   "cell_type": "code",
   "execution_count": 27,
   "id": "20ffd86f",
   "metadata": {},
   "outputs": [
    {
     "data": {
      "application/javascript": [
       "\n",
       "            setTimeout(function() {\n",
       "                var nbb_cell_id = 27;\n",
       "                var nbb_unformatted_code = \"epoch_time_callback = EpochTimeCallback()\";\n",
       "                var nbb_formatted_code = \"epoch_time_callback = EpochTimeCallback()\";\n",
       "                var nbb_cells = Jupyter.notebook.get_cells();\n",
       "                for (var i = 0; i < nbb_cells.length; ++i) {\n",
       "                    if (nbb_cells[i].input_prompt_number == nbb_cell_id) {\n",
       "                        if (nbb_cells[i].get_text() == nbb_unformatted_code) {\n",
       "                             nbb_cells[i].set_text(nbb_formatted_code);\n",
       "                        }\n",
       "                        break;\n",
       "                    }\n",
       "                }\n",
       "            }, 500);\n",
       "            "
      ],
      "text/plain": [
       "<IPython.core.display.Javascript object>"
      ]
     },
     "metadata": {},
     "output_type": "display_data"
    }
   ],
   "source": [
    "epoch_time_callback = EpochTimeCallback()"
   ]
  },
  {
   "cell_type": "markdown",
   "id": "84e6327d",
   "metadata": {},
   "source": [
    "### Training the model"
   ]
  },
  {
   "cell_type": "markdown",
   "id": "7ade9708",
   "metadata": {},
   "source": [
    "The metrics of each models as well as time used for training and prediction were recorded into a dictionary which will be later transformed into a pandas dataframe in order to compare scores of various models. Initially, the structure of the dictionary was set that was latter filled with the appended data from the steps of training, model assessment and predictions. "
   ]
  },
  {
   "cell_type": "code",
   "execution_count": 28,
   "id": "c87148a9",
   "metadata": {},
   "outputs": [
    {
     "data": {
      "application/javascript": [
       "\n",
       "            setTimeout(function() {\n",
       "                var nbb_cell_id = 28;\n",
       "                var nbb_unformatted_code = \"metrics_df = {}\\nmetrics_df[\\\"model_name\\\"] = []\\nmetrics_df[\\\"train_time\\\"] = []\\nmetrics_df[\\\"tune_time\\\"] = []\\nmetrics_df[\\\"prediction_time_trained\\\"] = []\\nmetrics_df[\\\"prediction_time_tuned\\\"] = []\\nmetrics_df[\\\"train_loss_trained\\\"] = []\\nmetrics_df[\\\"train_loss_tuned\\\"] = []\\nmetrics_df[\\\"val_loss_trained\\\"] = []\\nmetrics_df[\\\"val_loss_tuned\\\"] = []\";\n",
       "                var nbb_formatted_code = \"metrics_df = {}\\nmetrics_df[\\\"model_name\\\"] = []\\nmetrics_df[\\\"train_time\\\"] = []\\nmetrics_df[\\\"tune_time\\\"] = []\\nmetrics_df[\\\"prediction_time_trained\\\"] = []\\nmetrics_df[\\\"prediction_time_tuned\\\"] = []\\nmetrics_df[\\\"train_loss_trained\\\"] = []\\nmetrics_df[\\\"train_loss_tuned\\\"] = []\\nmetrics_df[\\\"val_loss_trained\\\"] = []\\nmetrics_df[\\\"val_loss_tuned\\\"] = []\";\n",
       "                var nbb_cells = Jupyter.notebook.get_cells();\n",
       "                for (var i = 0; i < nbb_cells.length; ++i) {\n",
       "                    if (nbb_cells[i].input_prompt_number == nbb_cell_id) {\n",
       "                        if (nbb_cells[i].get_text() == nbb_unformatted_code) {\n",
       "                             nbb_cells[i].set_text(nbb_formatted_code);\n",
       "                        }\n",
       "                        break;\n",
       "                    }\n",
       "                }\n",
       "            }, 500);\n",
       "            "
      ],
      "text/plain": [
       "<IPython.core.display.Javascript object>"
      ]
     },
     "metadata": {},
     "output_type": "display_data"
    }
   ],
   "source": [
    "metrics_df = {}\n",
    "metrics_df[\"model_name\"] = []\n",
    "metrics_df[\"train_time\"] = []\n",
    "metrics_df[\"tune_time\"] = []\n",
    "metrics_df[\"prediction_time_trained\"] = []\n",
    "metrics_df[\"prediction_time_tuned\"] = []\n",
    "metrics_df[\"train_loss_trained\"] = []\n",
    "metrics_df[\"train_loss_tuned\"] = []\n",
    "metrics_df[\"val_loss_trained\"] = []\n",
    "metrics_df[\"val_loss_tuned\"] = []"
   ]
  },
  {
   "cell_type": "markdown",
   "id": "8c8b745e",
   "metadata": {},
   "source": [
    "The model is trained with the Pytorch Lighntning trainer and, after the training process ended, is got saved into a local file. Data on the total training time is saved in the dictionary. "
   ]
  },
  {
   "cell_type": "code",
   "execution_count": 24,
   "id": "0fdf803e",
   "metadata": {},
   "outputs": [
    {
     "name": "stderr",
     "output_type": "stream",
     "text": [
      "GPU available: True (mps), used: True\n",
      "TPU available: False, using: 0 TPU cores\n",
      "IPU available: False, using: 0 IPUs\n",
      "HPU available: False, using: 0 HPUs\n",
      "\n",
      "  | Name       | Type                                | Params\n",
      "-------------------------------------------------------------------\n",
      "0 | distilbert | DistilBertForSequenceClassification | 67.0 M\n",
      "-------------------------------------------------------------------\n",
      "592 K     Trainable params\n",
      "66.4 M    Non-trainable params\n",
      "67.0 M    Total params\n",
      "267.820   Total estimated model params size (MB)\n"
     ]
    },
    {
     "data": {
      "application/vnd.jupyter.widget-view+json": {
       "model_id": "",
       "version_major": 2,
       "version_minor": 0
      },
      "text/plain": [
       "Sanity Checking: 0it [00:00, ?it/s]"
      ]
     },
     "metadata": {},
     "output_type": "display_data"
    },
    {
     "data": {
      "application/vnd.jupyter.widget-view+json": {
       "model_id": "2b47852e8c064e65b02dedd55a70a3c6",
       "version_major": 2,
       "version_minor": 0
      },
      "text/plain": [
       "Training: 0it [00:00, ?it/s]"
      ]
     },
     "metadata": {},
     "output_type": "display_data"
    },
    {
     "data": {
      "application/vnd.jupyter.widget-view+json": {
       "model_id": "",
       "version_major": 2,
       "version_minor": 0
      },
      "text/plain": [
       "Validation: 0it [00:00, ?it/s]"
      ]
     },
     "metadata": {},
     "output_type": "display_data"
    },
    {
     "data": {
      "application/vnd.jupyter.widget-view+json": {
       "model_id": "",
       "version_major": 2,
       "version_minor": 0
      },
      "text/plain": [
       "Validation: 0it [00:00, ?it/s]"
      ]
     },
     "metadata": {},
     "output_type": "display_data"
    },
    {
     "data": {
      "application/vnd.jupyter.widget-view+json": {
       "model_id": "",
       "version_major": 2,
       "version_minor": 0
      },
      "text/plain": [
       "Validation: 0it [00:00, ?it/s]"
      ]
     },
     "metadata": {},
     "output_type": "display_data"
    },
    {
     "data": {
      "application/vnd.jupyter.widget-view+json": {
       "model_id": "",
       "version_major": 2,
       "version_minor": 0
      },
      "text/plain": [
       "Validation: 0it [00:00, ?it/s]"
      ]
     },
     "metadata": {},
     "output_type": "display_data"
    },
    {
     "data": {
      "application/vnd.jupyter.widget-view+json": {
       "model_id": "",
       "version_major": 2,
       "version_minor": 0
      },
      "text/plain": [
       "Validation: 0it [00:00, ?it/s]"
      ]
     },
     "metadata": {},
     "output_type": "display_data"
    },
    {
     "data": {
      "application/vnd.jupyter.widget-view+json": {
       "model_id": "",
       "version_major": 2,
       "version_minor": 0
      },
      "text/plain": [
       "Validation: 0it [00:00, ?it/s]"
      ]
     },
     "metadata": {},
     "output_type": "display_data"
    },
    {
     "data": {
      "application/vnd.jupyter.widget-view+json": {
       "model_id": "",
       "version_major": 2,
       "version_minor": 0
      },
      "text/plain": [
       "Validation: 0it [00:00, ?it/s]"
      ]
     },
     "metadata": {},
     "output_type": "display_data"
    },
    {
     "data": {
      "application/vnd.jupyter.widget-view+json": {
       "model_id": "",
       "version_major": 2,
       "version_minor": 0
      },
      "text/plain": [
       "Validation: 0it [00:00, ?it/s]"
      ]
     },
     "metadata": {},
     "output_type": "display_data"
    },
    {
     "name": "stdout",
     "output_type": "stream",
     "text": [
      "\n",
      "Model_name: Distilbert\n",
      "Execution time: 0.44870544300358667\n"
     ]
    },
    {
     "data": {
      "application/javascript": [
       "\n",
       "            setTimeout(function() {\n",
       "                var nbb_cell_id = 24;\n",
       "                var nbb_unformatted_code = \"\\nstart_time = time.time()\\ntrainer = pl.Trainer(\\n    max_epochs=10,\\n    logger=tensorboard_logger,\\n    callbacks=[\\n        checkpoint_callback,\\n        log_collector,\\n        early_stopping_callback,\\n        epoch_time_callback,\\n    ],\\n)\\ntrainer.fit(\\n    model\\n    #ckpt_path=last_checkpoint_path\\n)\\n#trainer_list.append(trainer)\\nend_time = time.time()\\nexec_time = (end_time - start_time) / len(train_dataset)\\nprint(\\\"\\\")\\nprint(f\\\"Model_name: Distilbert\\\")\\nprint(f\\\"Execution time: {exec_time}\\\")\\nmetrics_df[\\\"model_name\\\"].append(\\\"Distilbert\\\")\\nmetrics_df[\\\"train_time\\\"].append(exec_time)\\ncheckpoint_path = f\\\"models/model_trained_Distilbert2.ckpt\\\"\\ntrainer.save_checkpoint(checkpoint_path)\";\n",
       "                var nbb_formatted_code = \"start_time = time.time()\\ntrainer = pl.Trainer(\\n    max_epochs=10,\\n    logger=tensorboard_logger,\\n    callbacks=[\\n        checkpoint_callback,\\n        log_collector,\\n        early_stopping_callback,\\n        epoch_time_callback,\\n    ],\\n)\\ntrainer.fit(\\n    model\\n    # ckpt_path=last_checkpoint_path\\n)\\n# trainer_list.append(trainer)\\nend_time = time.time()\\nexec_time = (end_time - start_time) / len(train_dataset)\\nprint(\\\"\\\")\\nprint(f\\\"Model_name: Distilbert\\\")\\nprint(f\\\"Execution time: {exec_time}\\\")\\nmetrics_df[\\\"model_name\\\"].append(\\\"Distilbert\\\")\\nmetrics_df[\\\"train_time\\\"].append(exec_time)\\ncheckpoint_path = f\\\"models/model_trained_Distilbert2.ckpt\\\"\\ntrainer.save_checkpoint(checkpoint_path)\";\n",
       "                var nbb_cells = Jupyter.notebook.get_cells();\n",
       "                for (var i = 0; i < nbb_cells.length; ++i) {\n",
       "                    if (nbb_cells[i].input_prompt_number == nbb_cell_id) {\n",
       "                        if (nbb_cells[i].get_text() == nbb_unformatted_code) {\n",
       "                             nbb_cells[i].set_text(nbb_formatted_code);\n",
       "                        }\n",
       "                        break;\n",
       "                    }\n",
       "                }\n",
       "            }, 500);\n",
       "            "
      ],
      "text/plain": [
       "<IPython.core.display.Javascript object>"
      ]
     },
     "metadata": {},
     "output_type": "display_data"
    }
   ],
   "source": [
    "\n",
    "start_time = time.time()\n",
    "trainer = pl.Trainer(\n",
    "    max_epochs=10,\n",
    "    logger=tensorboard_logger,\n",
    "    callbacks=[\n",
    "        checkpoint_callback,\n",
    "        log_collector,\n",
    "        early_stopping_callback,\n",
    "        epoch_time_callback,\n",
    "    ],\n",
    ")\n",
    "trainer.fit(\n",
    "    model\n",
    "    #ckpt_path=last_checkpoint_path\n",
    ")\n",
    "#trainer_list.append(trainer)\n",
    "end_time = time.time()\n",
    "exec_time = (end_time - start_time) / len(train_dataset)\n",
    "print(\"\")\n",
    "print(f\"Model_name: Distilbert\")\n",
    "print(f\"Execution time: {exec_time}\")\n",
    "metrics_df[\"model_name\"].append(\"Distilbert\")\n",
    "metrics_df[\"train_time\"].append(exec_time)\n",
    "checkpoint_path = f\"models/model_trained_Distilbert2.ckpt\"\n",
    "trainer.save_checkpoint(checkpoint_path)\n"
   ]
  },
  {
   "cell_type": "markdown",
   "id": "ccb3f91f",
   "metadata": {},
   "source": [
    "The training of the models with many layers freezed was conducted for maximum ten epochs, however, it was interupted by early stopping callback after 4 epochs. "
   ]
  },
  {
   "cell_type": "markdown",
   "id": "0f89c2da",
   "metadata": {},
   "source": [
    "### Fine-tuning the model"
   ]
  },
  {
   "cell_type": "markdown",
   "id": "1358f787",
   "metadata": {},
   "source": [
    "The next step is to fine-tune the model - that is, to calculate gradients by comparing predicted outputs with label data and adjust weights accordingly. \n",
    "\n",
    "First, the trained model is loaded from the local checkpoint path."
   ]
  },
  {
   "cell_type": "markdown",
   "id": "560f54d0",
   "metadata": {},
   "source": [
    "Bert_grad parameter is set to True in order to allow calculation os gradients."
   ]
  },
  {
   "cell_type": "code",
   "execution_count": 25,
   "id": "1d284f46",
   "metadata": {},
   "outputs": [
    {
     "name": "stderr",
     "output_type": "stream",
     "text": [
      "Some weights of DistilBertForSequenceClassification were not initialized from the model checkpoint at distilbert-base-cased and are newly initialized: ['classifier.weight', 'pre_classifier.weight', 'classifier.bias', 'pre_classifier.bias']\n",
      "You should probably TRAIN this model on a down-stream task to be able to use it for predictions and inference.\n",
      "Some weights of DistilBertForSequenceClassification were not initialized from the model checkpoint at distilbert-base-cased and are newly initialized because the shapes did not match:\n",
      "- distilbert.embeddings.word_embeddings.weight: found shape torch.Size([28996, 768]) in the checkpoint and torch.Size([30522, 768]) in the model instantiated\n",
      "You should probably TRAIN this model on a down-stream task to be able to use it for predictions and inference.\n",
      "GPU available: True (mps), used: True\n",
      "TPU available: False, using: 0 TPU cores\n",
      "IPU available: False, using: 0 IPUs\n",
      "HPU available: False, using: 0 HPUs\n",
      "\n",
      "  | Name       | Type                                | Params\n",
      "-------------------------------------------------------------------\n",
      "0 | distilbert | DistilBertForSequenceClassification | 67.0 M\n",
      "-------------------------------------------------------------------\n",
      "67.0 M    Trainable params\n",
      "0         Non-trainable params\n",
      "67.0 M    Total params\n",
      "267.820   Total estimated model params size (MB)\n"
     ]
    },
    {
     "data": {
      "application/vnd.jupyter.widget-view+json": {
       "model_id": "",
       "version_major": 2,
       "version_minor": 0
      },
      "text/plain": [
       "Sanity Checking: 0it [00:00, ?it/s]"
      ]
     },
     "metadata": {},
     "output_type": "display_data"
    },
    {
     "data": {
      "application/vnd.jupyter.widget-view+json": {
       "model_id": "3833f95c7dc6468db04fa511618664d1",
       "version_major": 2,
       "version_minor": 0
      },
      "text/plain": [
       "Training: 0it [00:00, ?it/s]"
      ]
     },
     "metadata": {},
     "output_type": "display_data"
    },
    {
     "data": {
      "application/vnd.jupyter.widget-view+json": {
       "model_id": "",
       "version_major": 2,
       "version_minor": 0
      },
      "text/plain": [
       "Validation: 0it [00:00, ?it/s]"
      ]
     },
     "metadata": {},
     "output_type": "display_data"
    },
    {
     "data": {
      "application/vnd.jupyter.widget-view+json": {
       "model_id": "",
       "version_major": 2,
       "version_minor": 0
      },
      "text/plain": [
       "Validation: 0it [00:00, ?it/s]"
      ]
     },
     "metadata": {},
     "output_type": "display_data"
    },
    {
     "data": {
      "application/vnd.jupyter.widget-view+json": {
       "model_id": "",
       "version_major": 2,
       "version_minor": 0
      },
      "text/plain": [
       "Validation: 0it [00:00, ?it/s]"
      ]
     },
     "metadata": {},
     "output_type": "display_data"
    },
    {
     "data": {
      "application/vnd.jupyter.widget-view+json": {
       "model_id": "",
       "version_major": 2,
       "version_minor": 0
      },
      "text/plain": [
       "Validation: 0it [00:00, ?it/s]"
      ]
     },
     "metadata": {},
     "output_type": "display_data"
    },
    {
     "name": "stdout",
     "output_type": "stream",
     "text": [
      "\n",
      "Model_name: Distilbert\n",
      "Execution time: 0.5045651809244832\n"
     ]
    },
    {
     "data": {
      "application/javascript": [
       "\n",
       "            setTimeout(function() {\n",
       "                var nbb_cell_id = 25;\n",
       "                var nbb_unformatted_code = \"last_checkpoint_path = f\\\"models/model_trained_Distilbert2.ckpt\\\"\\n\\nmodel = FakeNewsModelDistilbert.load_from_checkpoint(\\n    checkpoint_path=last_checkpoint_path,\\n    batch_size=batch_size,\\n    num_classes=2,\\n    model=\\\"Distilbert\\\",\\n    lr=0.0001,\\n)\\n\\ndevice = torch.device(\\\"mps\\\")\\nmodel.to(device)\\n\\nmodel.distilbert_grad(True)\\n\\nstart_time = time.time()\\ntrainer = pl.Trainer(\\n    max_epochs=30,\\n    logger=tensorboard_logger,\\n    callbacks=[\\n        checkpoint_callback,\\n        log_collector,\\n        early_stopping_callback,\\n        epoch_time_callback,\\n    ],\\n)\\ntrainer.fit(\\n    model,\\n    DataLoader(train_dataset, batch_size),\\n    # ckpt_path=last_checkpoint_path\\n)\\nend_time = time.time()\\nexec_time = (end_time - start_time) / len(train_dataset)\\nprint(\\\"\\\")\\nprint(f\\\"Model_name: Distilbert\\\")\\nprint(f\\\"Execution time: {exec_time}\\\")\\nmetrics_df[\\\"tune_time\\\"].append(exec_time)\\ncheckpoint_path = f\\\"models/model_tuned_Distilbert.ckpt\\\"\\ntrainer.save_checkpoint(checkpoint_path)\";\n",
       "                var nbb_formatted_code = \"last_checkpoint_path = f\\\"models/model_trained_Distilbert2.ckpt\\\"\\n\\nmodel = FakeNewsModelDistilbert.load_from_checkpoint(\\n    checkpoint_path=last_checkpoint_path,\\n    batch_size=batch_size,\\n    num_classes=2,\\n    model=\\\"Distilbert\\\",\\n    lr=0.0001,\\n)\\n\\ndevice = torch.device(\\\"mps\\\")\\nmodel.to(device)\\n\\nmodel.distilbert_grad(True)\\n\\nstart_time = time.time()\\ntrainer = pl.Trainer(\\n    max_epochs=30,\\n    logger=tensorboard_logger,\\n    callbacks=[\\n        checkpoint_callback,\\n        log_collector,\\n        early_stopping_callback,\\n        epoch_time_callback,\\n    ],\\n)\\ntrainer.fit(\\n    model,\\n    DataLoader(train_dataset, batch_size),\\n    # ckpt_path=last_checkpoint_path\\n)\\nend_time = time.time()\\nexec_time = (end_time - start_time) / len(train_dataset)\\nprint(\\\"\\\")\\nprint(f\\\"Model_name: Distilbert\\\")\\nprint(f\\\"Execution time: {exec_time}\\\")\\nmetrics_df[\\\"tune_time\\\"].append(exec_time)\\ncheckpoint_path = f\\\"models/model_tuned_Distilbert.ckpt\\\"\\ntrainer.save_checkpoint(checkpoint_path)\";\n",
       "                var nbb_cells = Jupyter.notebook.get_cells();\n",
       "                for (var i = 0; i < nbb_cells.length; ++i) {\n",
       "                    if (nbb_cells[i].input_prompt_number == nbb_cell_id) {\n",
       "                        if (nbb_cells[i].get_text() == nbb_unformatted_code) {\n",
       "                             nbb_cells[i].set_text(nbb_formatted_code);\n",
       "                        }\n",
       "                        break;\n",
       "                    }\n",
       "                }\n",
       "            }, 500);\n",
       "            "
      ],
      "text/plain": [
       "<IPython.core.display.Javascript object>"
      ]
     },
     "metadata": {},
     "output_type": "display_data"
    }
   ],
   "source": [
    "last_checkpoint_path = f\"models/model_trained_Distilbert2.ckpt\"\n",
    "\n",
    "model = FakeNewsModelDistilbert.load_from_checkpoint(\n",
    "    checkpoint_path=last_checkpoint_path,\n",
    "    batch_size=batch_size,\n",
    "    num_classes=2,\n",
    "    model=\"Distilbert\",\n",
    "    lr=0.0001,\n",
    ")\n",
    "\n",
    "device = torch.device(\"mps\")\n",
    "model.to(device)\n",
    "\n",
    "model.distilbert_grad(True)\n",
    "\n",
    "start_time = time.time()\n",
    "trainer = pl.Trainer(\n",
    "    max_epochs=30,\n",
    "    logger=tensorboard_logger,\n",
    "    callbacks=[\n",
    "        checkpoint_callback,\n",
    "        log_collector,\n",
    "        early_stopping_callback,\n",
    "        epoch_time_callback,\n",
    "    ],\n",
    ")\n",
    "trainer.fit(\n",
    "    model,\n",
    "    DataLoader(train_dataset, batch_size),\n",
    "    # ckpt_path=last_checkpoint_path\n",
    ")\n",
    "end_time = time.time()\n",
    "exec_time = (end_time - start_time) / len(train_dataset)\n",
    "print(\"\")\n",
    "print(f\"Model_name: Distilbert\")\n",
    "print(f\"Execution time: {exec_time}\")\n",
    "metrics_df[\"tune_time\"].append(exec_time)\n",
    "checkpoint_path = f\"models/model_tuned_Distilbert.ckpt\"\n",
    "trainer.save_checkpoint(checkpoint_path)"
   ]
  },
  {
   "cell_type": "markdown",
   "id": "1ce67ff7-be9e-467a-9ade-ec68f3293877",
   "metadata": {},
   "source": [
    "The fine-tuning of the model stopped after 3 epochs (though maximum 30 epochs were set). "
   ]
  },
  {
   "cell_type": "markdown",
   "id": "fafe843c",
   "metadata": {},
   "source": [
    "### Predictions on the trained model and validation and test datasets"
   ]
  },
  {
   "cell_type": "markdown",
   "id": "d4380448",
   "metadata": {},
   "source": [
    "Next, predictions on the fine-tuned model were generated. The model was loaded from the checkpoint path."
   ]
  },
  {
   "cell_type": "code",
   "execution_count": 29,
   "id": "b270444f",
   "metadata": {},
   "outputs": [
    {
     "name": "stderr",
     "output_type": "stream",
     "text": [
      "Some weights of DistilBertForSequenceClassification were not initialized from the model checkpoint at distilbert-base-cased and are newly initialized: ['pre_classifier.bias', 'pre_classifier.weight', 'classifier.weight', 'classifier.bias']\n",
      "You should probably TRAIN this model on a down-stream task to be able to use it for predictions and inference.\n",
      "Some weights of DistilBertForSequenceClassification were not initialized from the model checkpoint at distilbert-base-cased and are newly initialized because the shapes did not match:\n",
      "- distilbert.embeddings.word_embeddings.weight: found shape torch.Size([28996, 768]) in the checkpoint and torch.Size([30522, 768]) in the model instantiated\n",
      "You should probably TRAIN this model on a down-stream task to be able to use it for predictions and inference.\n"
     ]
    },
    {
     "data": {
      "application/javascript": [
       "\n",
       "            setTimeout(function() {\n",
       "                var nbb_cell_id = 29;\n",
       "                var nbb_unformatted_code = \"checkpoint_path = f\\\"models/model_trained_Distilbert2.ckpt\\\"\\nmodel = FakeNewsModelDistilbert.load_from_checkpoint(\\n    checkpoint_path=checkpoint_path,\\n    batch_size=batch_size,\\n    num_classes=2,\\n    model=\\\"Distilbert\\\",\\n    lr=0.001,\\n)\";\n",
       "                var nbb_formatted_code = \"checkpoint_path = f\\\"models/model_trained_Distilbert2.ckpt\\\"\\nmodel = FakeNewsModelDistilbert.load_from_checkpoint(\\n    checkpoint_path=checkpoint_path,\\n    batch_size=batch_size,\\n    num_classes=2,\\n    model=\\\"Distilbert\\\",\\n    lr=0.001,\\n)\";\n",
       "                var nbb_cells = Jupyter.notebook.get_cells();\n",
       "                for (var i = 0; i < nbb_cells.length; ++i) {\n",
       "                    if (nbb_cells[i].input_prompt_number == nbb_cell_id) {\n",
       "                        if (nbb_cells[i].get_text() == nbb_unformatted_code) {\n",
       "                             nbb_cells[i].set_text(nbb_formatted_code);\n",
       "                        }\n",
       "                        break;\n",
       "                    }\n",
       "                }\n",
       "            }, 500);\n",
       "            "
      ],
      "text/plain": [
       "<IPython.core.display.Javascript object>"
      ]
     },
     "metadata": {},
     "output_type": "display_data"
    }
   ],
   "source": [
    "checkpoint_path = f\"models/model_trained_Distilbert2.ckpt\"\n",
    "model = FakeNewsModelDistilbert.load_from_checkpoint(\n",
    "    checkpoint_path=checkpoint_path,\n",
    "    batch_size=batch_size,\n",
    "    num_classes=2,\n",
    "    model=\"Distilbert\",\n",
    "    lr=0.001,\n",
    ")"
   ]
  },
  {
   "cell_type": "markdown",
   "id": "07678e9b",
   "metadata": {},
   "source": [
    "The GPU processor is attached to models, sample weights, and to the eval() function. "
   ]
  },
  {
   "cell_type": "code",
   "execution_count": 30,
   "id": "1eda6ba0",
   "metadata": {},
   "outputs": [
    {
     "data": {
      "application/javascript": [
       "\n",
       "            setTimeout(function() {\n",
       "                var nbb_cell_id = 30;\n",
       "                var nbb_unformatted_code = \"device = torch.device(\\\"mps\\\")\\nmodel.to(device)\\nmodel = model.eval().to(device)\";\n",
       "                var nbb_formatted_code = \"device = torch.device(\\\"mps\\\")\\nmodel.to(device)\\nmodel = model.eval().to(device)\";\n",
       "                var nbb_cells = Jupyter.notebook.get_cells();\n",
       "                for (var i = 0; i < nbb_cells.length; ++i) {\n",
       "                    if (nbb_cells[i].input_prompt_number == nbb_cell_id) {\n",
       "                        if (nbb_cells[i].get_text() == nbb_unformatted_code) {\n",
       "                             nbb_cells[i].set_text(nbb_formatted_code);\n",
       "                        }\n",
       "                        break;\n",
       "                    }\n",
       "                }\n",
       "            }, 500);\n",
       "            "
      ],
      "text/plain": [
       "<IPython.core.display.Javascript object>"
      ]
     },
     "metadata": {},
     "output_type": "display_data"
    }
   ],
   "source": [
    "device = torch.device(\"mps\")\n",
    "model.to(device)\n",
    "model = model.eval().to(device)\n"
   ]
  },
  {
   "cell_type": "markdown",
   "id": "90b117d4",
   "metadata": {},
   "source": [
    "For the prediction, data is loaded from the validation dataset with the validation loader."
   ]
  },
  {
   "cell_type": "code",
   "execution_count": 42,
   "id": "d14b70d1",
   "metadata": {},
   "outputs": [
    {
     "data": {
      "application/javascript": [
       "\n",
       "            setTimeout(function() {\n",
       "                var nbb_cell_id = 42;\n",
       "                var nbb_unformatted_code = \"val_loader = DataLoader(\\n    val_dataset, batch_size=batch_size, shuffle=False, num_workers=3\\n)\\ntest_loader = DataLoader(\\n    test_dataset, batch_size=batch_size, shuffle=False, num_workers=3\\n)\";\n",
       "                var nbb_formatted_code = \"val_loader = DataLoader(\\n    val_dataset, batch_size=batch_size, shuffle=False, num_workers=3\\n)\\ntest_loader = DataLoader(\\n    test_dataset, batch_size=batch_size, shuffle=False, num_workers=3\\n)\";\n",
       "                var nbb_cells = Jupyter.notebook.get_cells();\n",
       "                for (var i = 0; i < nbb_cells.length; ++i) {\n",
       "                    if (nbb_cells[i].input_prompt_number == nbb_cell_id) {\n",
       "                        if (nbb_cells[i].get_text() == nbb_unformatted_code) {\n",
       "                             nbb_cells[i].set_text(nbb_formatted_code);\n",
       "                        }\n",
       "                        break;\n",
       "                    }\n",
       "                }\n",
       "            }, 500);\n",
       "            "
      ],
      "text/plain": [
       "<IPython.core.display.Javascript object>"
      ]
     },
     "metadata": {},
     "output_type": "display_data"
    }
   ],
   "source": [
    "val_loader = DataLoader(\n",
    "    val_dataset, batch_size=batch_size, shuffle=False, num_workers=3\n",
    ")\n",
    "test_loader = DataLoader(\n",
    "    test_dataset, batch_size=batch_size, shuffle=False, num_workers=3\n",
    ")"
   ]
  },
  {
   "cell_type": "markdown",
   "id": "bd338811-75b2-4ff3-a38d-788c833e93dc",
   "metadata": {},
   "source": [
    "#### Validation dataset"
   ]
  },
  {
   "cell_type": "markdown",
   "id": "e3b5ead1",
   "metadata": {},
   "source": [
    "Predictions are generated on the trained model and the fine-tuned model and saved into the list. Trues values are also set to a list as well as losses."
   ]
  },
  {
   "cell_type": "code",
   "execution_count": 62,
   "id": "562527de",
   "metadata": {
    "scrolled": true
   },
   "outputs": [
    {
     "name": "stdout",
     "output_type": "stream",
     "text": [
      "Prediction time: 0.021700182087975414\n"
     ]
    },
    {
     "data": {
      "application/javascript": [
       "\n",
       "            setTimeout(function() {\n",
       "                var nbb_cell_id = 62;\n",
       "                var nbb_unformatted_code = \"y_val_pred_trained = []\\ny_true_trained = []\\nlosses_trained = []\\nsigmoids_list_trained = []\\nstart_time = time.time()\\nwith torch.no_grad():\\n    for i, batch in enumerate(val_loader):\\n        batch = {k: v.to(device) for k, v in batch.items()}\\n        loss, outputs = model(**batch)\\n        sigmoids = torch.sigmoid(outputs)\\n        preds = (sigmoids > 0.5).to(torch.int)\\n        y_val_pred_trained += preds.tolist()\\n        y_true_trained += batch[\\\"labels\\\"].tolist()\\n        sigmoids_list_trained.append(sigmoids)\\n        losses_trained.append(loss.item())\\nend_time = time.time()\\nexec_time = (end_time - start_time) / len(val_dataset)\\n\\nprint(f\\\"Prediction time: {exec_time}\\\")\";\n",
       "                var nbb_formatted_code = \"y_val_pred_trained = []\\ny_true_trained = []\\nlosses_trained = []\\nsigmoids_list_trained = []\\nstart_time = time.time()\\nwith torch.no_grad():\\n    for i, batch in enumerate(val_loader):\\n        batch = {k: v.to(device) for k, v in batch.items()}\\n        loss, outputs = model(**batch)\\n        sigmoids = torch.sigmoid(outputs)\\n        preds = (sigmoids > 0.5).to(torch.int)\\n        y_val_pred_trained += preds.tolist()\\n        y_true_trained += batch[\\\"labels\\\"].tolist()\\n        sigmoids_list_trained.append(sigmoids)\\n        losses_trained.append(loss.item())\\nend_time = time.time()\\nexec_time = (end_time - start_time) / len(val_dataset)\\n\\nprint(f\\\"Prediction time: {exec_time}\\\")\";\n",
       "                var nbb_cells = Jupyter.notebook.get_cells();\n",
       "                for (var i = 0; i < nbb_cells.length; ++i) {\n",
       "                    if (nbb_cells[i].input_prompt_number == nbb_cell_id) {\n",
       "                        if (nbb_cells[i].get_text() == nbb_unformatted_code) {\n",
       "                             nbb_cells[i].set_text(nbb_formatted_code);\n",
       "                        }\n",
       "                        break;\n",
       "                    }\n",
       "                }\n",
       "            }, 500);\n",
       "            "
      ],
      "text/plain": [
       "<IPython.core.display.Javascript object>"
      ]
     },
     "metadata": {},
     "output_type": "display_data"
    }
   ],
   "source": [
    "y_val_pred_trained = []\n",
    "y_true_trained = []\n",
    "losses_trained = []\n",
    "sigmoids_list_trained = []\n",
    "start_time = time.time()\n",
    "with torch.no_grad():\n",
    "    for i, batch in enumerate(val_loader):\n",
    "        batch = {k: v.to(device) for k, v in batch.items()}\n",
    "        loss, outputs = model(**batch)\n",
    "        sigmoids = torch.sigmoid(outputs)\n",
    "        preds = (sigmoids > 0.5).to(torch.int)\n",
    "        y_val_pred_trained += preds.tolist()\n",
    "        y_true_trained += batch[\"labels\"].tolist()\n",
    "        sigmoids_list_trained.append(sigmoids)\n",
    "        losses_trained.append(loss.item())\n",
    "end_time = time.time()\n",
    "exec_time = (end_time - start_time) / len(val_dataset)\n",
    "\n",
    "print(f\"Prediction time: {exec_time}\")\n"
   ]
  },
  {
   "cell_type": "markdown",
   "id": "5a1f8bc9",
   "metadata": {},
   "source": [
    "The mean of losses of from all prediction values is calculated."
   ]
  },
  {
   "cell_type": "code",
   "execution_count": 63,
   "id": "826dbb8f",
   "metadata": {
    "scrolled": true
   },
   "outputs": [
    {
     "name": "stdout",
     "output_type": "stream",
     "text": [
      "Mean validation loss for the trained model: 0.6058896740935826\n"
     ]
    },
    {
     "data": {
      "application/javascript": [
       "\n",
       "            setTimeout(function() {\n",
       "                var nbb_cell_id = 63;\n",
       "                var nbb_unformatted_code = \"val_loss_trained = np.mean(losses_trained)\\nmetrics_df[\\\"val_loss_trained\\\"].append(val_loss_trained)\\nprint(\\\"Mean validation loss for the trained model:\\\", val_loss_trained)\";\n",
       "                var nbb_formatted_code = \"val_loss_trained = np.mean(losses_trained)\\nmetrics_df[\\\"val_loss_trained\\\"].append(val_loss_trained)\\nprint(\\\"Mean validation loss for the trained model:\\\", val_loss_trained)\";\n",
       "                var nbb_cells = Jupyter.notebook.get_cells();\n",
       "                for (var i = 0; i < nbb_cells.length; ++i) {\n",
       "                    if (nbb_cells[i].input_prompt_number == nbb_cell_id) {\n",
       "                        if (nbb_cells[i].get_text() == nbb_unformatted_code) {\n",
       "                             nbb_cells[i].set_text(nbb_formatted_code);\n",
       "                        }\n",
       "                        break;\n",
       "                    }\n",
       "                }\n",
       "            }, 500);\n",
       "            "
      ],
      "text/plain": [
       "<IPython.core.display.Javascript object>"
      ]
     },
     "metadata": {},
     "output_type": "display_data"
    }
   ],
   "source": [
    "val_loss_trained = np.mean(losses_trained)\n",
    "metrics_df[\"val_loss_trained\"].append(val_loss_trained)\n",
    "print(\"Mean validation loss for the trained model:\", val_loss_trained)\n"
   ]
  },
  {
   "cell_type": "markdown",
   "id": "8df26862-3ce1-4b47-8847-a0ad988b6ae5",
   "metadata": {},
   "source": [
    "#### Test dataset"
   ]
  },
  {
   "cell_type": "code",
   "execution_count": 43,
   "id": "ae26f126-3920-4fdf-8a2b-789d0627749c",
   "metadata": {},
   "outputs": [
    {
     "name": "stdout",
     "output_type": "stream",
     "text": [
      "Prediction time: 0.021973901522451624\n"
     ]
    },
    {
     "data": {
      "application/javascript": [
       "\n",
       "            setTimeout(function() {\n",
       "                var nbb_cell_id = 43;\n",
       "                var nbb_unformatted_code = \"y_test_pred_trained = []\\ny_true_trained_test = []\\nlosses_trained_test = []\\nlosses_trained_test = []\\nsigmoids_list_trained_test = []\\nstart_time = time.time()\\nwith torch.no_grad():\\n    for i, batch in enumerate(test_loader):\\n        batch = {k: v.to(device) for k, v in batch.items()}\\n        loss, outputs = model(**batch)\\n        sigmoids = torch.sigmoid(outputs)\\n        preds = (sigmoids > 0.5).to(torch.int)\\n        y_test_pred_trained += preds.tolist()\\n        y_true_trained_test += batch[\\\"labels\\\"].tolist()\\n        sigmoids_list_trained_test.append(sigmoids)\\n        losses_trained_test.append(loss.item())\\nend_time = time.time()\\nexec_time = (end_time - start_time) / len(test_dataset)\\n\\nprint(f\\\"Prediction time: {exec_time}\\\")\";\n",
       "                var nbb_formatted_code = \"y_test_pred_trained = []\\ny_true_trained_test = []\\nlosses_trained_test = []\\nlosses_trained_test = []\\nsigmoids_list_trained_test = []\\nstart_time = time.time()\\nwith torch.no_grad():\\n    for i, batch in enumerate(test_loader):\\n        batch = {k: v.to(device) for k, v in batch.items()}\\n        loss, outputs = model(**batch)\\n        sigmoids = torch.sigmoid(outputs)\\n        preds = (sigmoids > 0.5).to(torch.int)\\n        y_test_pred_trained += preds.tolist()\\n        y_true_trained_test += batch[\\\"labels\\\"].tolist()\\n        sigmoids_list_trained_test.append(sigmoids)\\n        losses_trained_test.append(loss.item())\\nend_time = time.time()\\nexec_time = (end_time - start_time) / len(test_dataset)\\n\\nprint(f\\\"Prediction time: {exec_time}\\\")\";\n",
       "                var nbb_cells = Jupyter.notebook.get_cells();\n",
       "                for (var i = 0; i < nbb_cells.length; ++i) {\n",
       "                    if (nbb_cells[i].input_prompt_number == nbb_cell_id) {\n",
       "                        if (nbb_cells[i].get_text() == nbb_unformatted_code) {\n",
       "                             nbb_cells[i].set_text(nbb_formatted_code);\n",
       "                        }\n",
       "                        break;\n",
       "                    }\n",
       "                }\n",
       "            }, 500);\n",
       "            "
      ],
      "text/plain": [
       "<IPython.core.display.Javascript object>"
      ]
     },
     "metadata": {},
     "output_type": "display_data"
    }
   ],
   "source": [
    "y_test_pred_trained = []\n",
    "y_true_trained_test = []\n",
    "losses_trained_test = []\n",
    "sigmoids_list_trained_test = []\n",
    "start_time = time.time()\n",
    "with torch.no_grad():\n",
    "    for i, batch in enumerate(test_loader):\n",
    "        batch = {k: v.to(device) for k, v in batch.items()}\n",
    "        loss, outputs = model(**batch)\n",
    "        sigmoids = torch.sigmoid(outputs)\n",
    "        preds = (sigmoids > 0.5).to(torch.int)\n",
    "        y_test_pred_trained += preds.tolist()\n",
    "        y_true_trained_test += batch[\"labels\"].tolist()\n",
    "        sigmoids_list_trained_test.append(sigmoids)\n",
    "        losses_trained_test.append(loss.item())\n",
    "end_time = time.time()\n",
    "exec_time = (end_time - start_time) / len(test_dataset)\n",
    "\n",
    "print(f\"Prediction time: {exec_time}\")\n"
   ]
  },
  {
   "cell_type": "code",
   "execution_count": 45,
   "id": "351d23f7-b121-4329-bd25-30c34277bd8e",
   "metadata": {},
   "outputs": [
    {
     "name": "stdout",
     "output_type": "stream",
     "text": [
      "Mean test loss for the tuned model: 0.6062753168339188\n"
     ]
    },
    {
     "data": {
      "application/javascript": [
       "\n",
       "            setTimeout(function() {\n",
       "                var nbb_cell_id = 45;\n",
       "                var nbb_unformatted_code = \"test_loss_trained = np.mean(losses_trained_test)\\nprint(\\\"Mean test loss for the tuned model:\\\", test_loss_trained)\";\n",
       "                var nbb_formatted_code = \"test_loss_trained = np.mean(losses_trained_test)\\nprint(\\\"Mean test loss for the tuned model:\\\", test_loss_trained)\";\n",
       "                var nbb_cells = Jupyter.notebook.get_cells();\n",
       "                for (var i = 0; i < nbb_cells.length; ++i) {\n",
       "                    if (nbb_cells[i].input_prompt_number == nbb_cell_id) {\n",
       "                        if (nbb_cells[i].get_text() == nbb_unformatted_code) {\n",
       "                             nbb_cells[i].set_text(nbb_formatted_code);\n",
       "                        }\n",
       "                        break;\n",
       "                    }\n",
       "                }\n",
       "            }, 500);\n",
       "            "
      ],
      "text/plain": [
       "<IPython.core.display.Javascript object>"
      ]
     },
     "metadata": {},
     "output_type": "display_data"
    }
   ],
   "source": [
    "test_loss_trained = np.mean(losses_trained_test)\n",
    "print(\"Mean test loss for the tuned model:\", test_loss_trained)"
   ]
  },
  {
   "cell_type": "markdown",
   "id": "96957f91-a877-4573-aac4-13df54e859fc",
   "metadata": {},
   "source": [
    "### Predictions on the fine-tuned model and validation and test datasets"
   ]
  },
  {
   "cell_type": "markdown",
   "id": "32d74ddf-637e-4df6-8254-bf8e5a5cf372",
   "metadata": {},
   "source": [
    "Next, predictions on the fine-tuned model were generated. The model was loaded from the checkpoint path."
   ]
  },
  {
   "cell_type": "code",
   "execution_count": 46,
   "id": "e1066825-7313-466d-a020-f2ab43ceaf72",
   "metadata": {},
   "outputs": [
    {
     "name": "stderr",
     "output_type": "stream",
     "text": [
      "Some weights of DistilBertForSequenceClassification were not initialized from the model checkpoint at distilbert-base-cased and are newly initialized: ['pre_classifier.bias', 'pre_classifier.weight', 'classifier.weight', 'classifier.bias']\n",
      "You should probably TRAIN this model on a down-stream task to be able to use it for predictions and inference.\n",
      "Some weights of DistilBertForSequenceClassification were not initialized from the model checkpoint at distilbert-base-cased and are newly initialized because the shapes did not match:\n",
      "- distilbert.embeddings.word_embeddings.weight: found shape torch.Size([28996, 768]) in the checkpoint and torch.Size([30522, 768]) in the model instantiated\n",
      "You should probably TRAIN this model on a down-stream task to be able to use it for predictions and inference.\n"
     ]
    },
    {
     "data": {
      "application/javascript": [
       "\n",
       "            setTimeout(function() {\n",
       "                var nbb_cell_id = 46;\n",
       "                var nbb_unformatted_code = \"checkpoint_path = f\\\"models/model_tuned_Distilbert.ckpt\\\"\\nmodel2 = FakeNewsModelDistilbert.load_from_checkpoint(\\n    checkpoint_path=checkpoint_path,\\n    batch_size=batch_size,\\n    num_classes=2,\\n    model=\\\"Distilbert\\\",\\n    lr=0.0001,\\n)\";\n",
       "                var nbb_formatted_code = \"checkpoint_path = f\\\"models/model_tuned_Distilbert.ckpt\\\"\\nmodel2 = FakeNewsModelDistilbert.load_from_checkpoint(\\n    checkpoint_path=checkpoint_path,\\n    batch_size=batch_size,\\n    num_classes=2,\\n    model=\\\"Distilbert\\\",\\n    lr=0.0001,\\n)\";\n",
       "                var nbb_cells = Jupyter.notebook.get_cells();\n",
       "                for (var i = 0; i < nbb_cells.length; ++i) {\n",
       "                    if (nbb_cells[i].input_prompt_number == nbb_cell_id) {\n",
       "                        if (nbb_cells[i].get_text() == nbb_unformatted_code) {\n",
       "                             nbb_cells[i].set_text(nbb_formatted_code);\n",
       "                        }\n",
       "                        break;\n",
       "                    }\n",
       "                }\n",
       "            }, 500);\n",
       "            "
      ],
      "text/plain": [
       "<IPython.core.display.Javascript object>"
      ]
     },
     "metadata": {},
     "output_type": "display_data"
    }
   ],
   "source": [
    "checkpoint_path = f\"models/model_tuned_Distilbert.ckpt\"\n",
    "model2 = FakeNewsModelDistilbert.load_from_checkpoint(\n",
    "    checkpoint_path=checkpoint_path,\n",
    "    batch_size=batch_size,\n",
    "    num_classes=2,\n",
    "    model=\"Distilbert\",\n",
    "    lr=0.0001,\n",
    ")"
   ]
  },
  {
   "cell_type": "markdown",
   "id": "c311cc71-fd96-47d5-8b44-8cde6e4766c9",
   "metadata": {},
   "source": [
    "The GPU processor is attached to models, sample weights, and to the eval() function. "
   ]
  },
  {
   "cell_type": "code",
   "execution_count": 47,
   "id": "f610abd2-1efd-40a8-ac76-a0434e90651a",
   "metadata": {},
   "outputs": [
    {
     "data": {
      "application/javascript": [
       "\n",
       "            setTimeout(function() {\n",
       "                var nbb_cell_id = 47;\n",
       "                var nbb_unformatted_code = \"device = torch.device(\\\"mps\\\")\\nmodel2.to(device)\\nmodel2 = model2.eval().to(device)\";\n",
       "                var nbb_formatted_code = \"device = torch.device(\\\"mps\\\")\\nmodel2.to(device)\\nmodel2 = model2.eval().to(device)\";\n",
       "                var nbb_cells = Jupyter.notebook.get_cells();\n",
       "                for (var i = 0; i < nbb_cells.length; ++i) {\n",
       "                    if (nbb_cells[i].input_prompt_number == nbb_cell_id) {\n",
       "                        if (nbb_cells[i].get_text() == nbb_unformatted_code) {\n",
       "                             nbb_cells[i].set_text(nbb_formatted_code);\n",
       "                        }\n",
       "                        break;\n",
       "                    }\n",
       "                }\n",
       "            }, 500);\n",
       "            "
      ],
      "text/plain": [
       "<IPython.core.display.Javascript object>"
      ]
     },
     "metadata": {},
     "output_type": "display_data"
    }
   ],
   "source": [
    "device = torch.device(\"mps\")\n",
    "model2.to(device)\n",
    "model2 = model2.eval().to(device)\n"
   ]
  },
  {
   "cell_type": "markdown",
   "id": "a0e02b44-0335-4872-897b-3d49fed6622e",
   "metadata": {},
   "source": [
    "For the prediction, data is loaded from the validation dataset with the validation loader."
   ]
  },
  {
   "cell_type": "code",
   "execution_count": 48,
   "id": "cddd4e81-2827-4c15-b7a5-de8ded196b10",
   "metadata": {},
   "outputs": [
    {
     "data": {
      "application/javascript": [
       "\n",
       "            setTimeout(function() {\n",
       "                var nbb_cell_id = 48;\n",
       "                var nbb_unformatted_code = \"val_loader = DataLoader(\\n    val_dataset, batch_size=batch_size, shuffle=False, num_workers=3\\n)\\ntest_loader = DataLoader(\\n    test_dataset, batch_size=batch_size, shuffle=False, num_workers=3\\n)\";\n",
       "                var nbb_formatted_code = \"val_loader = DataLoader(\\n    val_dataset, batch_size=batch_size, shuffle=False, num_workers=3\\n)\\ntest_loader = DataLoader(\\n    test_dataset, batch_size=batch_size, shuffle=False, num_workers=3\\n)\";\n",
       "                var nbb_cells = Jupyter.notebook.get_cells();\n",
       "                for (var i = 0; i < nbb_cells.length; ++i) {\n",
       "                    if (nbb_cells[i].input_prompt_number == nbb_cell_id) {\n",
       "                        if (nbb_cells[i].get_text() == nbb_unformatted_code) {\n",
       "                             nbb_cells[i].set_text(nbb_formatted_code);\n",
       "                        }\n",
       "                        break;\n",
       "                    }\n",
       "                }\n",
       "            }, 500);\n",
       "            "
      ],
      "text/plain": [
       "<IPython.core.display.Javascript object>"
      ]
     },
     "metadata": {},
     "output_type": "display_data"
    }
   ],
   "source": [
    "val_loader = DataLoader(\n",
    "    val_dataset, batch_size=batch_size, shuffle=False, num_workers=3\n",
    ")\n",
    "test_loader = DataLoader(\n",
    "    test_dataset, batch_size=batch_size, shuffle=False, num_workers=3\n",
    ")"
   ]
  },
  {
   "cell_type": "markdown",
   "id": "50e8ee00-dc2f-45cd-b173-3a2350ad278a",
   "metadata": {},
   "source": [
    "#### Validation dataset"
   ]
  },
  {
   "cell_type": "markdown",
   "id": "74d76127-5ea3-457c-8924-c9cc58430847",
   "metadata": {},
   "source": [
    "Predictions are generated on the trained model and the fine-tuned model and saved into the list. Trues values are also set to a list as well as losses."
   ]
  },
  {
   "cell_type": "code",
   "execution_count": 49,
   "id": "0c364ed6-5a3f-4959-bc20-6c18f2edb081",
   "metadata": {},
   "outputs": [
    {
     "name": "stdout",
     "output_type": "stream",
     "text": [
      "Prediction time: 0.02203211390605064\n"
     ]
    },
    {
     "data": {
      "application/javascript": [
       "\n",
       "            setTimeout(function() {\n",
       "                var nbb_cell_id = 49;\n",
       "                var nbb_unformatted_code = \"y_val_pred_tuned = []\\ny_true_tuned = []\\nlosses_tuned = []\\nsigmoids_list_tuned = []\\nstart_time = time.time()\\nwith torch.no_grad():\\n    for i, batch in enumerate(val_loader):\\n        batch = {k: v.to(device) for k, v in batch.items()}\\n        loss, outputs = model2(**batch)\\n        sigmoids = torch.sigmoid(outputs)\\n        preds = (sigmoids > 0.6).to(torch.int)\\n        y_val_pred_tuned += preds.tolist()\\n        y_true_tuned += batch[\\\"labels\\\"].tolist()\\n        sigmoids_list_tuned.append(sigmoids)\\n        losses_tuned.append(loss.item())\\nend_time = time.time()\\nexec_time = (end_time - start_time) / len(val_dataset)\\n\\nprint(f\\\"Prediction time: {exec_time}\\\")\";\n",
       "                var nbb_formatted_code = \"y_val_pred_tuned = []\\ny_true_tuned = []\\nlosses_tuned = []\\nsigmoids_list_tuned = []\\nstart_time = time.time()\\nwith torch.no_grad():\\n    for i, batch in enumerate(val_loader):\\n        batch = {k: v.to(device) for k, v in batch.items()}\\n        loss, outputs = model2(**batch)\\n        sigmoids = torch.sigmoid(outputs)\\n        preds = (sigmoids > 0.6).to(torch.int)\\n        y_val_pred_tuned += preds.tolist()\\n        y_true_tuned += batch[\\\"labels\\\"].tolist()\\n        sigmoids_list_tuned.append(sigmoids)\\n        losses_tuned.append(loss.item())\\nend_time = time.time()\\nexec_time = (end_time - start_time) / len(val_dataset)\\n\\nprint(f\\\"Prediction time: {exec_time}\\\")\";\n",
       "                var nbb_cells = Jupyter.notebook.get_cells();\n",
       "                for (var i = 0; i < nbb_cells.length; ++i) {\n",
       "                    if (nbb_cells[i].input_prompt_number == nbb_cell_id) {\n",
       "                        if (nbb_cells[i].get_text() == nbb_unformatted_code) {\n",
       "                             nbb_cells[i].set_text(nbb_formatted_code);\n",
       "                        }\n",
       "                        break;\n",
       "                    }\n",
       "                }\n",
       "            }, 500);\n",
       "            "
      ],
      "text/plain": [
       "<IPython.core.display.Javascript object>"
      ]
     },
     "metadata": {},
     "output_type": "display_data"
    }
   ],
   "source": [
    "y_val_pred_tuned = []\n",
    "y_true_tuned = []\n",
    "losses_tuned = []\n",
    "sigmoids_list_tuned = []\n",
    "start_time = time.time()\n",
    "with torch.no_grad():\n",
    "    for i, batch in enumerate(val_loader):\n",
    "        batch = {k: v.to(device) for k, v in batch.items()}\n",
    "        loss, outputs = model2(**batch)\n",
    "        sigmoids = torch.sigmoid(outputs)\n",
    "        preds = (sigmoids > 0.5).to(torch.int)\n",
    "        y_val_pred_tuned += preds.tolist()\n",
    "        y_true_tuned += batch[\"labels\"].tolist()\n",
    "        sigmoids_list_tuned.append(sigmoids)\n",
    "        losses_tuned.append(loss.item())\n",
    "end_time = time.time()\n",
    "exec_time = (end_time - start_time) / len(val_dataset)\n",
    "\n",
    "print(f\"Prediction time: {exec_time}\")\n"
   ]
  },
  {
   "cell_type": "markdown",
   "id": "5f605131-b137-4bcf-a38f-86afa4848994",
   "metadata": {},
   "source": [
    "The mean of losses of from all prediction values is calculated."
   ]
  },
  {
   "cell_type": "code",
   "execution_count": 50,
   "id": "848f6c1d-c989-4f2a-91b0-25a99a258c90",
   "metadata": {},
   "outputs": [
    {
     "name": "stdout",
     "output_type": "stream",
     "text": [
      "Mean validation loss for the tuned model: 0.03285893765925056\n"
     ]
    },
    {
     "data": {
      "application/javascript": [
       "\n",
       "            setTimeout(function() {\n",
       "                var nbb_cell_id = 50;\n",
       "                var nbb_unformatted_code = \"val_loss_tuned = np.mean(losses_tuned)\\nmetrics_df[\\\"val_loss_tuned\\\"].append(val_loss_tuned)\\nprint(\\\"Mean validation loss for the tuned model:\\\", val_loss_tuned)\";\n",
       "                var nbb_formatted_code = \"val_loss_tuned = np.mean(losses_tuned)\\nmetrics_df[\\\"val_loss_tuned\\\"].append(val_loss_tuned)\\nprint(\\\"Mean validation loss for the tuned model:\\\", val_loss_tuned)\";\n",
       "                var nbb_cells = Jupyter.notebook.get_cells();\n",
       "                for (var i = 0; i < nbb_cells.length; ++i) {\n",
       "                    if (nbb_cells[i].input_prompt_number == nbb_cell_id) {\n",
       "                        if (nbb_cells[i].get_text() == nbb_unformatted_code) {\n",
       "                             nbb_cells[i].set_text(nbb_formatted_code);\n",
       "                        }\n",
       "                        break;\n",
       "                    }\n",
       "                }\n",
       "            }, 500);\n",
       "            "
      ],
      "text/plain": [
       "<IPython.core.display.Javascript object>"
      ]
     },
     "metadata": {},
     "output_type": "display_data"
    }
   ],
   "source": [
    "val_loss_tuned = np.mean(losses_tuned)\n",
    "metrics_df[\"val_loss_tuned\"].append(val_loss_tuned)\n",
    "print(\"Mean validation loss for the tuned model:\", val_loss_tuned)\n"
   ]
  },
  {
   "cell_type": "markdown",
   "id": "70593251-75b9-41e6-949f-b8fc201e724a",
   "metadata": {},
   "source": [
    "#### Test dataset"
   ]
  },
  {
   "cell_type": "code",
   "execution_count": 51,
   "id": "24d1be46-722c-4d31-a4eb-2012861a4515",
   "metadata": {},
   "outputs": [
    {
     "name": "stdout",
     "output_type": "stream",
     "text": [
      "Prediction time: 0.025482823508884964\n"
     ]
    },
    {
     "data": {
      "application/javascript": [
       "\n",
       "            setTimeout(function() {\n",
       "                var nbb_cell_id = 51;\n",
       "                var nbb_unformatted_code = \"y_test_pred_tuned = []\\ny_true_tuned_test = []\\nlosses_tuned_test = []\\nlosses_tuned_test = []\\nsigmoids_list_tuned_test = []\\nstart_time = time.time()\\nwith torch.no_grad():\\n    for i, batch in enumerate(test_loader):\\n        batch = {k: v.to(device) for k, v in batch.items()}\\n        loss, outputs = model2(**batch)\\n        sigmoids = torch.sigmoid(outputs)\\n        preds = (sigmoids > 0.5).to(torch.int)\\n        y_test_pred_tuned += preds.tolist()\\n        y_true_tuned_test += batch[\\\"labels\\\"].tolist()\\n        sigmoids_list_tuned_test.append(sigmoids)\\n        losses_tuned_test.append(loss.item())\\nend_time = time.time()\\nexec_time = (end_time - start_time) / len(test_dataset)\\n\\nprint(f\\\"Prediction time: {exec_time}\\\")\";\n",
       "                var nbb_formatted_code = \"y_test_pred_tuned = []\\ny_true_tuned_test = []\\nlosses_tuned_test = []\\nlosses_tuned_test = []\\nsigmoids_list_tuned_test = []\\nstart_time = time.time()\\nwith torch.no_grad():\\n    for i, batch in enumerate(test_loader):\\n        batch = {k: v.to(device) for k, v in batch.items()}\\n        loss, outputs = model2(**batch)\\n        sigmoids = torch.sigmoid(outputs)\\n        preds = (sigmoids > 0.5).to(torch.int)\\n        y_test_pred_tuned += preds.tolist()\\n        y_true_tuned_test += batch[\\\"labels\\\"].tolist()\\n        sigmoids_list_tuned_test.append(sigmoids)\\n        losses_tuned_test.append(loss.item())\\nend_time = time.time()\\nexec_time = (end_time - start_time) / len(test_dataset)\\n\\nprint(f\\\"Prediction time: {exec_time}\\\")\";\n",
       "                var nbb_cells = Jupyter.notebook.get_cells();\n",
       "                for (var i = 0; i < nbb_cells.length; ++i) {\n",
       "                    if (nbb_cells[i].input_prompt_number == nbb_cell_id) {\n",
       "                        if (nbb_cells[i].get_text() == nbb_unformatted_code) {\n",
       "                             nbb_cells[i].set_text(nbb_formatted_code);\n",
       "                        }\n",
       "                        break;\n",
       "                    }\n",
       "                }\n",
       "            }, 500);\n",
       "            "
      ],
      "text/plain": [
       "<IPython.core.display.Javascript object>"
      ]
     },
     "metadata": {},
     "output_type": "display_data"
    }
   ],
   "source": [
    "y_test_pred_tuned = []\n",
    "y_true_tuned_test = []\n",
    "losses_tuned_test = []\n",
    "sigmoids_list_tuned_test = []\n",
    "start_time = time.time()\n",
    "with torch.no_grad():\n",
    "    for i, batch in enumerate(test_loader):\n",
    "        batch = {k: v.to(device) for k, v in batch.items()}\n",
    "        loss, outputs = model2(**batch)\n",
    "        sigmoids = torch.sigmoid(outputs)\n",
    "        preds = (sigmoids > 0.5).to(torch.int)\n",
    "        y_test_pred_tuned += preds.tolist()\n",
    "        y_true_tuned_test += batch[\"labels\"].tolist()\n",
    "        sigmoids_list_tuned_test.append(sigmoids)\n",
    "        losses_tuned_test.append(loss.item())\n",
    "end_time = time.time()\n",
    "exec_time = (end_time - start_time) / len(test_dataset)\n",
    "\n",
    "print(f\"Prediction time: {exec_time}\")"
   ]
  },
  {
   "cell_type": "code",
   "execution_count": 52,
   "id": "b98b49de-8459-4f6a-9c77-90620cea6cc9",
   "metadata": {},
   "outputs": [
    {
     "name": "stdout",
     "output_type": "stream",
     "text": [
      "Mean test loss for the tuned model: 0.025447170999816894\n"
     ]
    },
    {
     "data": {
      "application/javascript": [
       "\n",
       "            setTimeout(function() {\n",
       "                var nbb_cell_id = 52;\n",
       "                var nbb_unformatted_code = \"test_loss_tuned = np.mean(losses_tuned_test)\\nprint(\\\"Mean test loss for the tuned model:\\\", test_loss_tuned)\";\n",
       "                var nbb_formatted_code = \"test_loss_tuned = np.mean(losses_tuned_test)\\nprint(\\\"Mean test loss for the tuned model:\\\", test_loss_tuned)\";\n",
       "                var nbb_cells = Jupyter.notebook.get_cells();\n",
       "                for (var i = 0; i < nbb_cells.length; ++i) {\n",
       "                    if (nbb_cells[i].input_prompt_number == nbb_cell_id) {\n",
       "                        if (nbb_cells[i].get_text() == nbb_unformatted_code) {\n",
       "                             nbb_cells[i].set_text(nbb_formatted_code);\n",
       "                        }\n",
       "                        break;\n",
       "                    }\n",
       "                }\n",
       "            }, 500);\n",
       "            "
      ],
      "text/plain": [
       "<IPython.core.display.Javascript object>"
      ]
     },
     "metadata": {},
     "output_type": "display_data"
    }
   ],
   "source": [
    "test_loss_tuned = np.mean(losses_tuned_test)\n",
    "print(\"Mean test loss for the tuned model:\", test_loss_tuned)"
   ]
  },
  {
   "cell_type": "markdown",
   "id": "1215d04a",
   "metadata": {},
   "source": [
    "The dictionary with the added validation and test metrics was saved to the local file."
   ]
  },
  {
   "cell_type": "code",
   "execution_count": 53,
   "id": "7c77809b",
   "metadata": {},
   "outputs": [
    {
     "name": "stdout",
     "output_type": "stream",
     "text": [
      "The dictionary saved to a file.\n"
     ]
    },
    {
     "data": {
      "application/javascript": [
       "\n",
       "            setTimeout(function() {\n",
       "                var nbb_cell_id = 53;\n",
       "                var nbb_unformatted_code = \"with open(\\\"metrics_df.pkl\\\", \\\"wb\\\") as fp:\\n    pickle.dump(metrics_df, fp)\\n    print(\\\"The dictionary saved to a file.\\\")\";\n",
       "                var nbb_formatted_code = \"with open(\\\"metrics_df.pkl\\\", \\\"wb\\\") as fp:\\n    pickle.dump(metrics_df, fp)\\n    print(\\\"The dictionary saved to a file.\\\")\";\n",
       "                var nbb_cells = Jupyter.notebook.get_cells();\n",
       "                for (var i = 0; i < nbb_cells.length; ++i) {\n",
       "                    if (nbb_cells[i].input_prompt_number == nbb_cell_id) {\n",
       "                        if (nbb_cells[i].get_text() == nbb_unformatted_code) {\n",
       "                             nbb_cells[i].set_text(nbb_formatted_code);\n",
       "                        }\n",
       "                        break;\n",
       "                    }\n",
       "                }\n",
       "            }, 500);\n",
       "            "
      ],
      "text/plain": [
       "<IPython.core.display.Javascript object>"
      ]
     },
     "metadata": {},
     "output_type": "display_data"
    }
   ],
   "source": [
    "with open(\"metrics_df.pkl\", \"wb\") as fp:\n",
    "    pickle.dump(metrics_df, fp)\n",
    "    print(\"The dictionary saved to a file.\")"
   ]
  },
  {
   "cell_type": "markdown",
   "id": "927f4893-9a24-43f0-a460-d732bf05a912",
   "metadata": {},
   "source": [
    "## Assessments of trained and fine-tuned models"
   ]
  },
  {
   "cell_type": "markdown",
   "id": "ae3a59f5",
   "metadata": {},
   "source": [
    "### Confusion matrix"
   ]
  },
  {
   "cell_type": "markdown",
   "id": "d168e7af",
   "metadata": {},
   "source": [
    "Based on values which were generated from running the models on validation data, confusion matrixes are created and presented as heatmaps bellow. "
   ]
  },
  {
   "cell_type": "code",
   "execution_count": 74,
   "id": "89d92f6e-c824-47bc-9972-dd92c09ed4b1",
   "metadata": {},
   "outputs": [
    {
     "data": {
      "application/javascript": [
       "\n",
       "            setTimeout(function() {\n",
       "                var nbb_cell_id = 74;\n",
       "                var nbb_unformatted_code = \"y_val_pred_trained2 = [sublist[1] for sublist in y_val_pred_trained]\\ny_test_pred_trained2 = [sublist[1] for sublist in y_test_pred_trained]\\n\\ny_val_pred_tuned2 = [sublist[1] for sublist in y_val_pred_tuned]\\ny_test_pred_tuned2 = [sublist[1] for sublist in y_test_pred_tuned]\";\n",
       "                var nbb_formatted_code = \"y_val_pred_trained2 = [sublist[1] for sublist in y_val_pred_trained]\\ny_test_pred_trained2 = [sublist[1] for sublist in y_test_pred_trained]\\n\\ny_val_pred_tuned2 = [sublist[1] for sublist in y_val_pred_tuned]\\ny_test_pred_tuned2 = [sublist[1] for sublist in y_test_pred_tuned]\";\n",
       "                var nbb_cells = Jupyter.notebook.get_cells();\n",
       "                for (var i = 0; i < nbb_cells.length; ++i) {\n",
       "                    if (nbb_cells[i].input_prompt_number == nbb_cell_id) {\n",
       "                        if (nbb_cells[i].get_text() == nbb_unformatted_code) {\n",
       "                             nbb_cells[i].set_text(nbb_formatted_code);\n",
       "                        }\n",
       "                        break;\n",
       "                    }\n",
       "                }\n",
       "            }, 500);\n",
       "            "
      ],
      "text/plain": [
       "<IPython.core.display.Javascript object>"
      ]
     },
     "metadata": {},
     "output_type": "display_data"
    }
   ],
   "source": [
    "y_val_pred_trained2 = [sublist[1] for sublist in y_val_pred_trained]\n",
    "y_test_pred_trained2 = [sublist[1] for sublist in y_test_pred_trained]\n",
    "\n",
    "y_val_pred_tuned2 = [sublist[1] for sublist in y_val_pred_tuned]\n",
    "y_test_pred_tuned2 = [sublist[1] for sublist in y_test_pred_tuned]"
   ]
  },
  {
   "cell_type": "code",
   "execution_count": 75,
   "id": "c40913a3",
   "metadata": {},
   "outputs": [
    {
     "data": {
      "application/javascript": [
       "\n",
       "            setTimeout(function() {\n",
       "                var nbb_cell_id = 75;\n",
       "                var nbb_unformatted_code = \"conf_mat_trained = confusion_matrix(y_true_trained, y_val_pred_trained2)\\nconf_mat_trained_test = confusion_matrix(y_true_trained_test, y_test_pred_trained2)\\n\\nconf_mat_tuned = confusion_matrix(y_true_tuned, y_val_pred_tuned2)\\nconf_mat_tuned_test = confusion_matrix(y_true_tuned_test, y_test_pred_tuned2)\";\n",
       "                var nbb_formatted_code = \"conf_mat_trained = confusion_matrix(y_true_trained, y_val_pred_trained2)\\nconf_mat_trained_test = confusion_matrix(y_true_trained_test, y_test_pred_trained2)\\n\\nconf_mat_tuned = confusion_matrix(y_true_tuned, y_val_pred_tuned2)\\nconf_mat_tuned_test = confusion_matrix(y_true_tuned_test, y_test_pred_tuned2)\";\n",
       "                var nbb_cells = Jupyter.notebook.get_cells();\n",
       "                for (var i = 0; i < nbb_cells.length; ++i) {\n",
       "                    if (nbb_cells[i].input_prompt_number == nbb_cell_id) {\n",
       "                        if (nbb_cells[i].get_text() == nbb_unformatted_code) {\n",
       "                             nbb_cells[i].set_text(nbb_formatted_code);\n",
       "                        }\n",
       "                        break;\n",
       "                    }\n",
       "                }\n",
       "            }, 500);\n",
       "            "
      ],
      "text/plain": [
       "<IPython.core.display.Javascript object>"
      ]
     },
     "metadata": {},
     "output_type": "display_data"
    }
   ],
   "source": [
    "conf_mat_trained = confusion_matrix(y_true_trained, y_val_pred_trained2)\n",
    "conf_mat_trained_test = confusion_matrix(y_true_trained_test, y_test_pred_trained2)\n",
    "\n",
    "conf_mat_tuned = confusion_matrix(y_true_tuned, y_val_pred_tuned2)\n",
    "conf_mat_tuned_test = confusion_matrix(y_true_tuned_test, y_test_pred_tuned2)"
   ]
  },
  {
   "cell_type": "markdown",
   "id": "fab02d6b-3e7f-440b-992a-2c15a3a6f30a",
   "metadata": {},
   "source": [
    "#### Assessments of the trained model"
   ]
  },
  {
   "cell_type": "markdown",
   "id": "8c4ca368-5e28-48f6-8a32-ac362e595f03",
   "metadata": {},
   "source": [
    "##### Validation dataset"
   ]
  },
  {
   "cell_type": "code",
   "execution_count": 66,
   "id": "20078d53",
   "metadata": {},
   "outputs": [
    {
     "data": {
      "image/png": "[encoded data removed]",
      "text/plain": [
       "<Figure size 500x400 with 1 Axes>"
      ]
     },
     "metadata": {},
     "output_type": "display_data"
    },
    {
     "data": {
      "application/javascript": [
       "\n",
       "            setTimeout(function() {\n",
       "                var nbb_cell_id = 66;\n",
       "                var nbb_unformatted_code = \"plt.figure(figsize=(5, 4))\\nsns.heatmap(conf_mat_trained, annot=True, fmt=\\\"d\\\", cmap=\\\"Blues\\\", cbar=False)\\nclasses = [\\\"True News\\\", \\\"Fake News\\\"]\\nplt.xticks(ticks=np.arange(2) + 0.5, labels=classes)\\nplt.yticks(ticks=np.arange(2) + 0.5, labels=classes)\\nplt.title(\\\"Confusion Matrix\\\")\\nplt.show()\";\n",
       "                var nbb_formatted_code = \"plt.figure(figsize=(5, 4))\\nsns.heatmap(conf_mat_trained, annot=True, fmt=\\\"d\\\", cmap=\\\"Blues\\\", cbar=False)\\nclasses = [\\\"True News\\\", \\\"Fake News\\\"]\\nplt.xticks(ticks=np.arange(2) + 0.5, labels=classes)\\nplt.yticks(ticks=np.arange(2) + 0.5, labels=classes)\\nplt.title(\\\"Confusion Matrix\\\")\\nplt.show()\";\n",
       "                var nbb_cells = Jupyter.notebook.get_cells();\n",
       "                for (var i = 0; i < nbb_cells.length; ++i) {\n",
       "                    if (nbb_cells[i].input_prompt_number == nbb_cell_id) {\n",
       "                        if (nbb_cells[i].get_text() == nbb_unformatted_code) {\n",
       "                             nbb_cells[i].set_text(nbb_formatted_code);\n",
       "                        }\n",
       "                        break;\n",
       "                    }\n",
       "                }\n",
       "            }, 500);\n",
       "            "
      ],
      "text/plain": [
       "<IPython.core.display.Javascript object>"
      ]
     },
     "metadata": {},
     "output_type": "display_data"
    }
   ],
   "source": [
    "plt.figure(figsize=(5, 4))\n",
    "sns.heatmap(conf_mat_trained, annot=True, fmt=\"d\", cmap=\"Blues\", cbar=False)\n",
    "classes = [\"True News\", \"Fake News\"]\n",
    "plt.xticks(ticks=np.arange(2) + 0.5, labels=classes)\n",
    "plt.yticks(ticks=np.arange(2) + 0.5, labels=classes)\n",
    "plt.title(\"Confusion Matrix\")\n",
    "plt.show()"
   ]
  },
  {
   "cell_type": "markdown",
   "id": "01152f89-acb0-4125-9922-338bbe307e5d",
   "metadata": {},
   "source": [
    "##### Test dataset"
   ]
  },
  {
   "cell_type": "code",
   "execution_count": 67,
   "id": "e501000a-90b4-47f0-97eb-8ecdd942c3b5",
   "metadata": {},
   "outputs": [
    {
     "data": {
      "image/png": "[encoded data removed]",
      "text/plain": [
       "<Figure size 500x400 with 1 Axes>"
      ]
     },
     "metadata": {},
     "output_type": "display_data"
    },
    {
     "data": {
      "application/javascript": [
       "\n",
       "            setTimeout(function() {\n",
       "                var nbb_cell_id = 67;\n",
       "                var nbb_unformatted_code = \"plt.figure(figsize=(5, 4))\\nsns.heatmap(conf_mat_trained_test, annot=True, fmt=\\\"d\\\", cmap=\\\"Blues\\\", cbar=False)\\nclasses = [\\\"True News\\\", \\\"Fake News\\\"]\\nplt.xticks(ticks=np.arange(2) + 0.5, labels=classes)\\nplt.yticks(ticks=np.arange(2) + 0.5, labels=classes)\\nplt.title(\\\"Confusion Matrix\\\")\\nplt.show()\";\n",
       "                var nbb_formatted_code = \"plt.figure(figsize=(5, 4))\\nsns.heatmap(conf_mat_trained_test, annot=True, fmt=\\\"d\\\", cmap=\\\"Blues\\\", cbar=False)\\nclasses = [\\\"True News\\\", \\\"Fake News\\\"]\\nplt.xticks(ticks=np.arange(2) + 0.5, labels=classes)\\nplt.yticks(ticks=np.arange(2) + 0.5, labels=classes)\\nplt.title(\\\"Confusion Matrix\\\")\\nplt.show()\";\n",
       "                var nbb_cells = Jupyter.notebook.get_cells();\n",
       "                for (var i = 0; i < nbb_cells.length; ++i) {\n",
       "                    if (nbb_cells[i].input_prompt_number == nbb_cell_id) {\n",
       "                        if (nbb_cells[i].get_text() == nbb_unformatted_code) {\n",
       "                             nbb_cells[i].set_text(nbb_formatted_code);\n",
       "                        }\n",
       "                        break;\n",
       "                    }\n",
       "                }\n",
       "            }, 500);\n",
       "            "
      ],
      "text/plain": [
       "<IPython.core.display.Javascript object>"
      ]
     },
     "metadata": {},
     "output_type": "display_data"
    }
   ],
   "source": [
    "plt.figure(figsize=(5, 4))\n",
    "sns.heatmap(conf_mat_trained_test, annot=True, fmt=\"d\", cmap=\"Blues\", cbar=False)\n",
    "classes = [\"True News\", \"Fake News\"]\n",
    "plt.xticks(ticks=np.arange(2) + 0.5, labels=classes)\n",
    "plt.yticks(ticks=np.arange(2) + 0.5, labels=classes)\n",
    "plt.title(\"Confusion Matrix\")\n",
    "plt.show()"
   ]
  },
  {
   "cell_type": "markdown",
   "id": "054f5123-4c5c-4969-b14c-e939165c390c",
   "metadata": {},
   "source": [
    "#### Assessments of the fine-tuned model"
   ]
  },
  {
   "cell_type": "markdown",
   "id": "8d0681e2-4a41-489e-bda0-fc5ce47fbd05",
   "metadata": {},
   "source": [
    "##### Validation dataset"
   ]
  },
  {
   "cell_type": "code",
   "execution_count": 68,
   "id": "2732e44d-0c02-40e9-bbc9-563d9fd64aa5",
   "metadata": {},
   "outputs": [
    {
     "data": {
      "image/png": "[encoded data removed]",
      "text/plain": [
       "<Figure size 500x400 with 1 Axes>"
      ]
     },
     "metadata": {},
     "output_type": "display_data"
    },
    {
     "data": {
      "application/javascript": [
       "\n",
       "            setTimeout(function() {\n",
       "                var nbb_cell_id = 68;\n",
       "                var nbb_unformatted_code = \"plt.figure(figsize=(5, 4))\\nsns.heatmap(conf_mat_tuned, annot=True, fmt=\\\"d\\\", cmap=\\\"Blues\\\", cbar=False)\\nclasses = [\\\"True News\\\", \\\"Fake News\\\"]\\nplt.xticks(ticks=np.arange(2) + 0.5, labels=classes)\\nplt.yticks(ticks=np.arange(2) + 0.5, labels=classes)\\nplt.title(\\\"Confusion Matrix\\\")\\nplt.show()\";\n",
       "                var nbb_formatted_code = \"plt.figure(figsize=(5, 4))\\nsns.heatmap(conf_mat_tuned, annot=True, fmt=\\\"d\\\", cmap=\\\"Blues\\\", cbar=False)\\nclasses = [\\\"True News\\\", \\\"Fake News\\\"]\\nplt.xticks(ticks=np.arange(2) + 0.5, labels=classes)\\nplt.yticks(ticks=np.arange(2) + 0.5, labels=classes)\\nplt.title(\\\"Confusion Matrix\\\")\\nplt.show()\";\n",
       "                var nbb_cells = Jupyter.notebook.get_cells();\n",
       "                for (var i = 0; i < nbb_cells.length; ++i) {\n",
       "                    if (nbb_cells[i].input_prompt_number == nbb_cell_id) {\n",
       "                        if (nbb_cells[i].get_text() == nbb_unformatted_code) {\n",
       "                             nbb_cells[i].set_text(nbb_formatted_code);\n",
       "                        }\n",
       "                        break;\n",
       "                    }\n",
       "                }\n",
       "            }, 500);\n",
       "            "
      ],
      "text/plain": [
       "<IPython.core.display.Javascript object>"
      ]
     },
     "metadata": {},
     "output_type": "display_data"
    }
   ],
   "source": [
    "plt.figure(figsize=(5, 4))\n",
    "sns.heatmap(conf_mat_tuned, annot=True, fmt=\"d\", cmap=\"Blues\", cbar=False)\n",
    "classes = [\"True News\", \"Fake News\"]\n",
    "plt.xticks(ticks=np.arange(2) + 0.5, labels=classes)\n",
    "plt.yticks(ticks=np.arange(2) + 0.5, labels=classes)\n",
    "plt.title(\"Confusion Matrix\")\n",
    "plt.show()"
   ]
  },
  {
   "cell_type": "markdown",
   "id": "6f2e102f-24aa-4ab9-8e5f-309127ff385a",
   "metadata": {},
   "source": [
    "##### Test dataset"
   ]
  },
  {
   "cell_type": "code",
   "execution_count": 69,
   "id": "e6ddb6d3-7533-4120-93e6-8c86ea03ce91",
   "metadata": {},
   "outputs": [
    {
     "data": {
      "image/png": "[encoded data removed]",
      "text/plain": [
       "<Figure size 500x400 with 1 Axes>"
      ]
     },
     "metadata": {},
     "output_type": "display_data"
    },
    {
     "data": {
      "application/javascript": [
       "\n",
       "            setTimeout(function() {\n",
       "                var nbb_cell_id = 69;\n",
       "                var nbb_unformatted_code = \"plt.figure(figsize=(5, 4))\\nsns.heatmap(conf_mat_tuned_test, annot=True, fmt=\\\"d\\\", cmap=\\\"Blues\\\", cbar=False)\\nclasses = [\\\"True News\\\", \\\"Fake News\\\"]\\nplt.xticks(ticks=np.arange(2) + 0.5, labels=classes)\\nplt.yticks(ticks=np.arange(2) + 0.5, labels=classes)\\nplt.title(\\\"Confusion Matrix\\\")\\nplt.show()\";\n",
       "                var nbb_formatted_code = \"plt.figure(figsize=(5, 4))\\nsns.heatmap(conf_mat_tuned_test, annot=True, fmt=\\\"d\\\", cmap=\\\"Blues\\\", cbar=False)\\nclasses = [\\\"True News\\\", \\\"Fake News\\\"]\\nplt.xticks(ticks=np.arange(2) + 0.5, labels=classes)\\nplt.yticks(ticks=np.arange(2) + 0.5, labels=classes)\\nplt.title(\\\"Confusion Matrix\\\")\\nplt.show()\";\n",
       "                var nbb_cells = Jupyter.notebook.get_cells();\n",
       "                for (var i = 0; i < nbb_cells.length; ++i) {\n",
       "                    if (nbb_cells[i].input_prompt_number == nbb_cell_id) {\n",
       "                        if (nbb_cells[i].get_text() == nbb_unformatted_code) {\n",
       "                             nbb_cells[i].set_text(nbb_formatted_code);\n",
       "                        }\n",
       "                        break;\n",
       "                    }\n",
       "                }\n",
       "            }, 500);\n",
       "            "
      ],
      "text/plain": [
       "<IPython.core.display.Javascript object>"
      ]
     },
     "metadata": {},
     "output_type": "display_data"
    }
   ],
   "source": [
    "plt.figure(figsize=(5, 4))\n",
    "sns.heatmap(conf_mat_tuned_test, annot=True, fmt=\"d\", cmap=\"Blues\", cbar=False)\n",
    "classes = [\"True News\", \"Fake News\"]\n",
    "plt.xticks(ticks=np.arange(2) + 0.5, labels=classes)\n",
    "plt.yticks(ticks=np.arange(2) + 0.5, labels=classes)\n",
    "plt.title(\"Confusion Matrix\")\n",
    "plt.show()"
   ]
  },
  {
   "cell_type": "markdown",
   "id": "7784fb5e",
   "metadata": {},
   "source": [
    "### Classification reports"
   ]
  },
  {
   "cell_type": "code",
   "execution_count": 73,
   "id": "15e4bc27",
   "metadata": {},
   "outputs": [
    {
     "name": "stdout",
     "output_type": "stream",
     "text": [
      "Assessments of the trained model:\n",
      "\n",
      "Validation dataset:\n",
      "              precision    recall  f1-score   support\n",
      "\n",
      "   True News       0.99      0.24      0.38      8600\n",
      "   Fake News       0.59      1.00      0.74      9359\n",
      "\n",
      "    accuracy                           0.63     17959\n",
      "   macro avg       0.79      0.62      0.56     17959\n",
      "weighted avg       0.78      0.63      0.57     17959\n",
      "\n",
      "Test dataset:\n",
      "              precision    recall  f1-score   support\n",
      "\n",
      "   True News       0.98      0.23      0.37      4247\n",
      "   Fake News       0.59      1.00      0.74      4733\n",
      "\n",
      "    accuracy                           0.63      8980\n",
      "   macro avg       0.79      0.61      0.56      8980\n",
      "weighted avg       0.78      0.63      0.57      8980\n",
      "\n",
      "\n",
      "Assessments of the fine-tuned model:\n",
      "\n",
      "Validation dataset:\n",
      "              precision    recall  f1-score   support\n",
      "\n",
      "   True News       0.99      1.00      0.99      8600\n",
      "   Fake News       1.00      0.99      0.99      9359\n",
      "\n",
      "    accuracy                           0.99     17959\n",
      "   macro avg       0.99      0.99      0.99     17959\n",
      "weighted avg       0.99      0.99      0.99     17959\n",
      "\n",
      "Test dataset:\n",
      "              precision    recall  f1-score   support\n",
      "\n",
      "   True News       0.99      1.00      1.00      4247\n",
      "   Fake News       1.00      0.99      1.00      4733\n",
      "\n",
      "    accuracy                           1.00      8980\n",
      "   macro avg       1.00      1.00      1.00      8980\n",
      "weighted avg       1.00      1.00      1.00      8980\n",
      "\n"
     ]
    },
    {
     "data": {
      "application/javascript": [
       "\n",
       "            setTimeout(function() {\n",
       "                var nbb_cell_id = 73;\n",
       "                var nbb_unformatted_code = \"class_names = [\\\"True News\\\", \\\"Fake News\\\"]\\nprint(\\\"Assessments of the trained model:\\\")\\nprint('')\\nprint(\\\"Validation dataset:\\\")\\nclassification_report_trained = classification_report(y_true_trained, y_val_pred_trained2, target_names=class_names)\\nprint(classification_report_trained)\\nprint(\\\"Test dataset:\\\")\\nclassification_report_trained_test = classification_report(y_true_trained_test, y_test_pred_trained2, target_names=class_names)\\nprint(classification_report_trained_test)\\nprint('')\\nprint(\\\"Assessments of the fine-tuned model:\\\")\\nprint('')\\nprint(\\\"Validation dataset:\\\")\\nclassification_report_tuned = classification_report(y_true_tuned, y_val_pred_tuned2, target_names=class_names)\\nprint(classification_report_tuned)\\nprint(\\\"Test dataset:\\\")\\nclassification_report_tuned_test = classification_report(y_true_tuned_test, y_test_pred_tuned2, target_names=class_names)\\nprint(classification_report_tuned_test)\";\n",
       "                var nbb_formatted_code = \"class_names = [\\\"True News\\\", \\\"Fake News\\\"]\\nprint(\\\"Assessments of the trained model:\\\")\\nprint(\\\"\\\")\\nprint(\\\"Validation dataset:\\\")\\nclassification_report_trained = classification_report(\\n    y_true_trained, y_val_pred_trained2, target_names=class_names\\n)\\nprint(classification_report_trained)\\nprint(\\\"Test dataset:\\\")\\nclassification_report_trained_test = classification_report(\\n    y_true_trained_test, y_test_pred_trained2, target_names=class_names\\n)\\nprint(classification_report_trained_test)\\nprint(\\\"\\\")\\nprint(\\\"Assessments of the fine-tuned model:\\\")\\nprint(\\\"\\\")\\nprint(\\\"Validation dataset:\\\")\\nclassification_report_tuned = classification_report(\\n    y_true_tuned, y_val_pred_tuned2, target_names=class_names\\n)\\nprint(classification_report_tuned)\\nprint(\\\"Test dataset:\\\")\\nclassification_report_tuned_test = classification_report(\\n    y_true_tuned_test, y_test_pred_tuned2, target_names=class_names\\n)\\nprint(classification_report_tuned_test)\";\n",
       "                var nbb_cells = Jupyter.notebook.get_cells();\n",
       "                for (var i = 0; i < nbb_cells.length; ++i) {\n",
       "                    if (nbb_cells[i].input_prompt_number == nbb_cell_id) {\n",
       "                        if (nbb_cells[i].get_text() == nbb_unformatted_code) {\n",
       "                             nbb_cells[i].set_text(nbb_formatted_code);\n",
       "                        }\n",
       "                        break;\n",
       "                    }\n",
       "                }\n",
       "            }, 500);\n",
       "            "
      ],
      "text/plain": [
       "<IPython.core.display.Javascript object>"
      ]
     },
     "metadata": {},
     "output_type": "display_data"
    }
   ],
   "source": [
    "class_names = [\"True News\", \"Fake News\"]\n",
    "print(\"Assessments of the trained model:\")\n",
    "print('')\n",
    "print(\"Validation dataset:\")\n",
    "classification_report_trained = classification_report(y_true_trained, y_val_pred_trained2, target_names=class_names)\n",
    "print(classification_report_trained)\n",
    "print(\"Test dataset:\")\n",
    "classification_report_trained_test = classification_report(y_true_trained_test, y_test_pred_trained2, target_names=class_names)\n",
    "print(classification_report_trained_test)\n",
    "print('')\n",
    "print(\"Assessments of the fine-tuned model:\")\n",
    "print('')\n",
    "print(\"Validation dataset:\")\n",
    "classification_report_tuned = classification_report(y_true_tuned, y_val_pred_tuned2, target_names=class_names)\n",
    "print(classification_report_tuned)\n",
    "print(\"Test dataset:\")\n",
    "classification_report_tuned_test = classification_report(y_true_tuned_test, y_test_pred_tuned2, target_names=class_names)\n",
    "print(classification_report_tuned_test)"
   ]
  },
  {
   "cell_type": "markdown",
   "id": "e4c3f315-216d-4422-bf7e-8d29a2fa2dfb",
   "metadata": {},
   "source": [
    "### Conclusions for this part"
   ]
  },
  {
   "cell_type": "markdown",
   "id": "b9a66826",
   "metadata": {},
   "source": [
    "It can be observed that:\n",
    "- the trained model performed not well both with validation and test datasets;\n",
    "- the fine-tuned model performed quite well both with validation and test dataset (f1 score equal to 0.99 for validation and 1 for test dataset)."
   ]
  },
  {
   "cell_type": "markdown",
   "id": "115c3372-651e-4e83-90c9-46e9129724d4",
   "metadata": {
    "collapsed": true,
    "jupyter": {
     "outputs_hidden": true
    }
   },
   "source": []
  }
 ],
 "metadata": {
  "kernelspec": {
   "display_name": "tf-text",
   "language": "python",
   "name": "tf-text"
  },
  "language_info": {
   "codemirror_mode": {
    "name": "ipython",
    "version": 3
   },
   "file_extension": ".py",
   "mimetype": "text/x-python",
   "name": "python",
   "nbconvert_exporter": "python",
   "pygments_lexer": "ipython3",
   "version": "3.10.8"
  }
 },
 "nbformat": 4,
 "nbformat_minor": 5
}
